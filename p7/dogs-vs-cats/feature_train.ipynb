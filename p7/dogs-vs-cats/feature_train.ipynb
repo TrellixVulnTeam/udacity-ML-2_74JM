{
 "cells": [
  {
   "cell_type": "markdown",
   "metadata": {},
   "source": [
    "## 导入模型"
   ]
  },
  {
   "cell_type": "code",
   "execution_count": 1,
   "metadata": {},
   "outputs": [
    {
     "name": "stderr",
     "output_type": "stream",
     "text": [
      "/home/ubuntu/anaconda3/envs/tensorflow_p36/lib/python3.6/site-packages/h5py/__init__.py:36: FutureWarning: Conversion of the second argument of issubdtype from `float` to `np.floating` is deprecated. In future, it will be treated as `np.float64 == np.dtype(float).type`.\n",
      "  from ._conv import register_converters as _register_converters\n"
     ]
    }
   ],
   "source": [
    "import h5py\n",
    "import numpy as np\n",
    "from sklearn.utils import shuffle\n",
    "np.random.seed(2018)\n",
    "\n",
    "X_train = []\n",
    "X_test = []\n",
    "\n",
    "for filename in [\"feature_resnet50.h5\", \"feature_xception.h5\", \"feature_inception_v3.h5\"]:\n",
    "    with h5py.File(filename, 'r') as h:\n",
    "        X_train.append(np.array(h['train']))\n",
    "        X_test.append(np.array(h['test']))\n",
    "        y_train = np.array(h['label'])\n",
    "\n",
    "X_train = np.concatenate(X_train, axis=1)\n",
    "X_test = np.concatenate(X_test, axis=1)\n",
    "\n",
    "X_train, y_train = shuffle(X_train, y_train)"
   ]
  },
  {
   "cell_type": "markdown",
   "metadata": {},
   "source": [
    "## 构建模型"
   ]
  },
  {
   "cell_type": "code",
   "execution_count": 2,
   "metadata": {},
   "outputs": [
    {
     "name": "stderr",
     "output_type": "stream",
     "text": [
      "Using TensorFlow backend.\n",
      "/home/ubuntu/anaconda3/envs/tensorflow_p36/lib/python3.6/site-packages/matplotlib/__init__.py:1067: UserWarning: Duplicate key in file \"/home/ubuntu/.config/matplotlib/matplotlibrc\", line #2\n",
      "  (fname, cnt))\n",
      "/home/ubuntu/anaconda3/envs/tensorflow_p36/lib/python3.6/site-packages/matplotlib/__init__.py:1067: UserWarning: Duplicate key in file \"/home/ubuntu/.config/matplotlib/matplotlibrc\", line #3\n",
      "  (fname, cnt))\n"
     ]
    }
   ],
   "source": [
    "from keras.models import *\n",
    "from keras.layers import *\n",
    "\n",
    "input_tensor = Input(X_train.shape[1:])\n",
    "x = input_tensor\n",
    "x = Dropout(0.5)(x)\n",
    "x = Dense(1, activation='sigmoid')(x)\n",
    "model = Model(input_tensor, x)\n",
    "\n",
    "model.compile(optimizer='adadelta',\n",
    "              loss='binary_crossentropy',\n",
    "              metrics=['accuracy'])"
   ]
  },
  {
   "cell_type": "markdown",
   "metadata": {},
   "source": []
  },
  {
   "cell_type": "code",
   "execution_count": 3,
   "metadata": {},
   "outputs": [
    {
     "ename": "ModuleNotFoundError",
     "evalue": "No module named 'keras.utils.visualize_util'",
     "output_type": "error",
     "traceback": [
      "\u001b[0;31m---------------------------------------------------------------------------\u001b[0m",
      "\u001b[0;31mModuleNotFoundError\u001b[0m                       Traceback (most recent call last)",
      "\u001b[0;32m<ipython-input-3-630ba6818c18>\u001b[0m in \u001b[0;36m<module>\u001b[0;34m()\u001b[0m\n\u001b[1;32m      1\u001b[0m \u001b[0;32mfrom\u001b[0m \u001b[0mIPython\u001b[0m\u001b[0;34m.\u001b[0m\u001b[0mdisplay\u001b[0m \u001b[0;32mimport\u001b[0m \u001b[0mSVG\u001b[0m\u001b[0;34m\u001b[0m\u001b[0m\n\u001b[0;32m----> 2\u001b[0;31m \u001b[0;32mfrom\u001b[0m \u001b[0mkeras\u001b[0m\u001b[0;34m.\u001b[0m\u001b[0mutils\u001b[0m\u001b[0;34m.\u001b[0m\u001b[0mvisualize_util\u001b[0m \u001b[0;32mimport\u001b[0m \u001b[0mmodel_to_dot\u001b[0m\u001b[0;34m,\u001b[0m \u001b[0mplot\u001b[0m\u001b[0;34m\u001b[0m\u001b[0m\n\u001b[0m\u001b[1;32m      3\u001b[0m \u001b[0;34m\u001b[0m\u001b[0m\n\u001b[1;32m      4\u001b[0m \u001b[0mSVG\u001b[0m\u001b[0;34m(\u001b[0m\u001b[0mmodel_to_dot\u001b[0m\u001b[0;34m(\u001b[0m\u001b[0mmodel\u001b[0m\u001b[0;34m,\u001b[0m \u001b[0mshow_shapes\u001b[0m\u001b[0;34m=\u001b[0m\u001b[0;32mTrue\u001b[0m\u001b[0;34m)\u001b[0m\u001b[0;34m.\u001b[0m\u001b[0mcreate\u001b[0m\u001b[0;34m(\u001b[0m\u001b[0mprog\u001b[0m\u001b[0;34m=\u001b[0m\u001b[0;34m'dot'\u001b[0m\u001b[0;34m,\u001b[0m \u001b[0mformat\u001b[0m\u001b[0;34m=\u001b[0m\u001b[0;34m'svg'\u001b[0m\u001b[0;34m)\u001b[0m\u001b[0;34m)\u001b[0m\u001b[0;34m\u001b[0m\u001b[0m\n",
      "\u001b[0;31mModuleNotFoundError\u001b[0m: No module named 'keras.utils.visualize_util'"
     ]
    }
   ],
   "source": [
    "from IPython.display import SVG\n",
    "from keras.utils.visualize_util import model_to_dot, plot\n",
    "\n",
    "SVG(model_to_dot(model, show_shapes=True).create(prog='dot', format='svg'))"
   ]
  },
  {
   "cell_type": "code",
   "execution_count": 9,
   "metadata": {
    "scrolled": true
   },
   "outputs": [
    {
     "name": "stdout",
     "output_type": "stream",
     "text": [
      "Train on 20000 samples, validate on 5000 samples\n",
      "Epoch 1/28\n",
      " 2816/20000 [===>..........................] - ETA: 1s - loss: 0.0088 - acc: 0.9975"
     ]
    },
    {
     "name": "stderr",
     "output_type": "stream",
     "text": [
      "/home/ubuntu/anaconda3/envs/tensorflow_p36/lib/python3.6/site-packages/ipykernel/__main__.py:1: UserWarning: The `nb_epoch` argument in `fit` has been renamed `epochs`.\n",
      "  if __name__ == '__main__':\n"
     ]
    },
    {
     "name": "stdout",
     "output_type": "stream",
     "text": [
      "20000/20000 [==============================] - 1s 63us/step - loss: 0.0106 - acc: 0.9965 - val_loss: 0.0161 - val_acc: 0.9942\n",
      "Epoch 2/28\n",
      "20000/20000 [==============================] - 1s 66us/step - loss: 0.0097 - acc: 0.9971 - val_loss: 0.0176 - val_acc: 0.9944\n",
      "Epoch 3/28\n",
      "20000/20000 [==============================] - 1s 64us/step - loss: 0.0101 - acc: 0.9970 - val_loss: 0.0171 - val_acc: 0.9944\n",
      "Epoch 4/28\n",
      "20000/20000 [==============================] - 1s 66us/step - loss: 0.0094 - acc: 0.9972 - val_loss: 0.0183 - val_acc: 0.9940\n",
      "Epoch 5/28\n",
      "20000/20000 [==============================] - 1s 64us/step - loss: 0.0090 - acc: 0.9973 - val_loss: 0.0169 - val_acc: 0.9940\n",
      "Epoch 6/28\n",
      "20000/20000 [==============================] - 1s 66us/step - loss: 0.0086 - acc: 0.9973 - val_loss: 0.0166 - val_acc: 0.9940\n",
      "Epoch 7/28\n",
      "20000/20000 [==============================] - 1s 65us/step - loss: 0.0084 - acc: 0.9972 - val_loss: 0.0184 - val_acc: 0.9950\n",
      "Epoch 8/28\n",
      "20000/20000 [==============================] - 1s 65us/step - loss: 0.0085 - acc: 0.9972 - val_loss: 0.0171 - val_acc: 0.9938\n",
      "Epoch 9/28\n",
      "20000/20000 [==============================] - 1s 65us/step - loss: 0.0076 - acc: 0.9975 - val_loss: 0.0170 - val_acc: 0.9950\n",
      "Epoch 10/28\n",
      "20000/20000 [==============================] - 1s 67us/step - loss: 0.0079 - acc: 0.9971 - val_loss: 0.0167 - val_acc: 0.9950\n",
      "Epoch 11/28\n",
      "20000/20000 [==============================] - 1s 67us/step - loss: 0.0062 - acc: 0.9981 - val_loss: 0.0169 - val_acc: 0.9950\n",
      "Epoch 12/28\n",
      "20000/20000 [==============================] - 1s 66us/step - loss: 0.0070 - acc: 0.9977 - val_loss: 0.0172 - val_acc: 0.9944\n",
      "Epoch 13/28\n",
      "20000/20000 [==============================] - 1s 64us/step - loss: 0.0073 - acc: 0.9973 - val_loss: 0.0190 - val_acc: 0.9942\n",
      "Epoch 14/28\n",
      "20000/20000 [==============================] - 1s 66us/step - loss: 0.0066 - acc: 0.9977 - val_loss: 0.0212 - val_acc: 0.9944\n",
      "Epoch 15/28\n",
      "20000/20000 [==============================] - 1s 64us/step - loss: 0.0066 - acc: 0.9981 - val_loss: 0.0185 - val_acc: 0.9942\n",
      "Epoch 16/28\n",
      "20000/20000 [==============================] - 1s 63us/step - loss: 0.0071 - acc: 0.9978 - val_loss: 0.0191 - val_acc: 0.9940\n",
      "Epoch 17/28\n",
      "20000/20000 [==============================] - 1s 66us/step - loss: 0.0070 - acc: 0.9978 - val_loss: 0.0174 - val_acc: 0.9944\n",
      "Epoch 18/28\n",
      "20000/20000 [==============================] - 1s 65us/step - loss: 0.0064 - acc: 0.9975 - val_loss: 0.0174 - val_acc: 0.9948\n",
      "Epoch 19/28\n",
      "20000/20000 [==============================] - 1s 65us/step - loss: 0.0065 - acc: 0.9977 - val_loss: 0.0174 - val_acc: 0.9948\n",
      "Epoch 20/28\n",
      "20000/20000 [==============================] - 1s 64us/step - loss: 0.0059 - acc: 0.9977 - val_loss: 0.0180 - val_acc: 0.9950\n",
      "Epoch 21/28\n",
      "20000/20000 [==============================] - 1s 66us/step - loss: 0.0056 - acc: 0.9983 - val_loss: 0.0180 - val_acc: 0.9946\n",
      "Epoch 22/28\n",
      "20000/20000 [==============================] - 1s 65us/step - loss: 0.0062 - acc: 0.9979 - val_loss: 0.0179 - val_acc: 0.9946\n",
      "Epoch 23/28\n",
      "20000/20000 [==============================] - 1s 66us/step - loss: 0.0057 - acc: 0.9982 - val_loss: 0.0177 - val_acc: 0.9948\n",
      "Epoch 24/28\n",
      "20000/20000 [==============================] - 1s 65us/step - loss: 0.0055 - acc: 0.9984 - val_loss: 0.0190 - val_acc: 0.9950\n",
      "Epoch 25/28\n",
      "20000/20000 [==============================] - 1s 64us/step - loss: 0.0055 - acc: 0.9985 - val_loss: 0.0185 - val_acc: 0.9948\n",
      "Epoch 26/28\n",
      "20000/20000 [==============================] - 1s 66us/step - loss: 0.0057 - acc: 0.9983 - val_loss: 0.0183 - val_acc: 0.9948\n",
      "Epoch 27/28\n",
      "20000/20000 [==============================] - 1s 65us/step - loss: 0.0063 - acc: 0.9977 - val_loss: 0.0183 - val_acc: 0.9946\n",
      "Epoch 28/28\n",
      "20000/20000 [==============================] - 1s 63us/step - loss: 0.0060 - acc: 0.9978 - val_loss: 0.0186 - val_acc: 0.9946\n"
     ]
    },
    {
     "data": {
      "text/plain": [
       "<keras.callbacks.History at 0x7f54261bfb38>"
      ]
     },
     "execution_count": 9,
     "metadata": {},
     "output_type": "execute_result"
    }
   ],
   "source": [
    "model.fit(X_train, y_train, batch_size=128, nb_epoch=10, validation_split=0.2)"
   ]
  },
  {
   "cell_type": "code",
   "execution_count": 5,
   "metadata": {},
   "outputs": [],
   "source": [
    "# 保存模型\n",
    "model.save('merged_model.h5')"
   ]
  },
  {
   "cell_type": "code",
   "execution_count": 6,
   "metadata": {},
   "outputs": [
    {
     "name": "stdout",
     "output_type": "stream",
     "text": [
      "12500/12500 [==============================] - 1s 42us/step\n"
     ]
    }
   ],
   "source": [
    "# 模型预测\n",
    "y_pred = model.predict(X_test, verbose=1)\n",
    "y_pred = y_pred.clip(min=0.005, max=0.995)"
   ]
  },
  {
   "cell_type": "code",
   "execution_count": 8,
   "metadata": {},
   "outputs": [
    {
     "name": "stdout",
     "output_type": "stream",
     "text": [
      "Found 12500 images belonging to 1 classes.\n"
     ]
    },
    {
     "name": "stderr",
     "output_type": "stream",
     "text": [
      "/home/ubuntu/anaconda3/envs/tensorflow_p36/lib/python3.6/site-packages/ipykernel/__main__.py:17: FutureWarning: set_value is deprecated and will be removed in a future release. Please use .at[] or .iat[] accessors instead\n"
     ]
    },
    {
     "data": {
      "text/html": [
       "<div>\n",
       "<style scoped>\n",
       "    .dataframe tbody tr th:only-of-type {\n",
       "        vertical-align: middle;\n",
       "    }\n",
       "\n",
       "    .dataframe tbody tr th {\n",
       "        vertical-align: top;\n",
       "    }\n",
       "\n",
       "    .dataframe thead th {\n",
       "        text-align: right;\n",
       "    }\n",
       "</style>\n",
       "<table border=\"1\" class=\"dataframe\">\n",
       "  <thead>\n",
       "    <tr style=\"text-align: right;\">\n",
       "      <th></th>\n",
       "      <th>id</th>\n",
       "      <th>label</th>\n",
       "    </tr>\n",
       "  </thead>\n",
       "  <tbody>\n",
       "    <tr>\n",
       "      <th>0</th>\n",
       "      <td>1</td>\n",
       "      <td>0.995</td>\n",
       "    </tr>\n",
       "    <tr>\n",
       "      <th>1</th>\n",
       "      <td>2</td>\n",
       "      <td>0.995</td>\n",
       "    </tr>\n",
       "    <tr>\n",
       "      <th>2</th>\n",
       "      <td>3</td>\n",
       "      <td>0.995</td>\n",
       "    </tr>\n",
       "    <tr>\n",
       "      <th>3</th>\n",
       "      <td>4</td>\n",
       "      <td>0.995</td>\n",
       "    </tr>\n",
       "    <tr>\n",
       "      <th>4</th>\n",
       "      <td>5</td>\n",
       "      <td>0.005</td>\n",
       "    </tr>\n",
       "    <tr>\n",
       "      <th>5</th>\n",
       "      <td>6</td>\n",
       "      <td>0.005</td>\n",
       "    </tr>\n",
       "    <tr>\n",
       "      <th>6</th>\n",
       "      <td>7</td>\n",
       "      <td>0.005</td>\n",
       "    </tr>\n",
       "    <tr>\n",
       "      <th>7</th>\n",
       "      <td>8</td>\n",
       "      <td>0.005</td>\n",
       "    </tr>\n",
       "    <tr>\n",
       "      <th>8</th>\n",
       "      <td>9</td>\n",
       "      <td>0.005</td>\n",
       "    </tr>\n",
       "    <tr>\n",
       "      <th>9</th>\n",
       "      <td>10</td>\n",
       "      <td>0.005</td>\n",
       "    </tr>\n",
       "  </tbody>\n",
       "</table>\n",
       "</div>"
      ],
      "text/plain": [
       "   id  label\n",
       "0   1  0.995\n",
       "1   2  0.995\n",
       "2   3  0.995\n",
       "3   4  0.995\n",
       "4   5  0.005\n",
       "5   6  0.005\n",
       "6   7  0.005\n",
       "7   8  0.005\n",
       "8   9  0.005\n",
       "9  10  0.005"
      ]
     },
     "execution_count": 8,
     "metadata": {},
     "output_type": "execute_result"
    }
   ],
   "source": [
    "# 测试集预测\n",
    "import os\n",
    "import pandas as pd\n",
    "from keras.preprocessing.image import *\n",
    "\n",
    "# 获得当前目录\n",
    "current_dir = os.getcwd()\n",
    "df = pd.read_csv(\"sample_submission.csv\")\n",
    "\n",
    "image_size = (224, 224)\n",
    "gen = ImageDataGenerator()\n",
    "test_generator = gen.flow_from_directory(current_dir + \"/data/test\", image_size, shuffle=False, \n",
    "                                         batch_size=16, class_mode=None)\n",
    "\n",
    "for i, fname in enumerate(test_generator.filenames):\n",
    "    index = int(fname[fname.rfind('/')+1:fname.rfind('.')])\n",
    "    df.set_value(index-1, 'label', y_pred[i])\n",
    "\n",
    "df.to_csv('merged_pred.csv', index=None)\n",
    "df.head(10)"
   ]
  },
  {
   "cell_type": "markdown",
   "metadata": {},
   "source": [
    "0.04008"
   ]
  },
  {
   "cell_type": "code",
   "execution_count": null,
   "metadata": {},
   "outputs": [],
   "source": []
  }
 ],
 "metadata": {
  "kernelspec": {
   "display_name": "Python 3",
   "language": "python",
   "name": "python3"
  },
  "language_info": {
   "codemirror_mode": {
    "name": "ipython",
    "version": 3
   },
   "file_extension": ".py",
   "mimetype": "text/x-python",
   "name": "python",
   "nbconvert_exporter": "python",
   "pygments_lexer": "ipython3",
   "version": "3.6.4"
  }
 },
 "nbformat": 4,
 "nbformat_minor": 2
}
