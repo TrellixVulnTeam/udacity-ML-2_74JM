{
 "cells": [
  {
   "cell_type": "markdown",
   "metadata": {},
   "source": [
    "## 预处理数据"
   ]
  },
  {
   "cell_type": "markdown",
   "metadata": {},
   "source": [
    "使用创建符号链接(symbol link)的方法，将train文件夹中的12500张狗的图片和12500猫的图片分别存放在新建的`data/train/dog`和`data/train/cat`文件夹中，再将`test`文件夹，复制一份存在`data/test/`文件夹下，方法参考[手把手教你如何在Kaggle猫狗大战冲到Top2%](https://zhuanlan.zhihu.com/p/25978105)。"
   ]
  },
  {
   "cell_type": "code",
   "execution_count": 23,
   "metadata": {},
   "outputs": [
    {
     "name": "stderr",
     "output_type": "stream",
     "text": [
      "100%|██████████| 25000/25000 [00:01<00:00, 22459.11it/s]\n"
     ]
    }
   ],
   "source": [
    "import os\n",
    "import shutil\n",
    "from tqdm import tqdm\n",
    "# 获得当前目录\n",
    "current_dir = os.getcwd()\n",
    "# 创建指定目录文件夹\n",
    "def rmrf_mkdir(dirname):\n",
    "    if os.path.exists(dirname):\n",
    "        shutil.rmtree(dirname)\n",
    "    os.mkdir(dirname)\n",
    "# 创建目录\n",
    "rmrf_mkdir('data')\n",
    "\n",
    "train_dir = current_dir + '/data/train'\n",
    "test_dir = current_dir + '/data/test'\n",
    "rmrf_mkdir(train_dir)\n",
    "rmrf_mkdir(train_dir + '/dog')\n",
    "rmrf_mkdir(train_dir + '/cat')\n",
    "rmrf_mkdir(test_dir)\n",
    "\n",
    "# 创建symbol link\n",
    "os.symlink(current_dir + '/test/', test_dir + '/test')\n",
    "train_files = os.listdir('train')\n",
    "for i in tqdm(range(len(train_files))):\n",
    "    file = train_files[i]\n",
    "    if \"dog\" in file.split('.'):\n",
    "        os.symlink(current_dir + '/train/' + file, train_dir + '/dog/' + file)\n",
    "    else:\n",
    "        os.symlink(current_dir + '/train/' + file, train_dir + '/cat/' + file)"
   ]
  },
  {
   "cell_type": "markdown",
   "metadata": {},
   "source": []
  },
  {
   "cell_type": "markdown",
   "metadata": {},
   "source": []
  },
  {
   "cell_type": "code",
   "execution_count": null,
   "metadata": {},
   "outputs": [],
   "source": [
    "\n",
    "    "
   ]
  }
 ],
 "metadata": {
  "kernelspec": {
   "display_name": "Python 3",
   "language": "python",
   "name": "python3"
  },
  "language_info": {
   "codemirror_mode": {
    "name": "ipython",
    "version": 3
   },
   "file_extension": ".py",
   "mimetype": "text/x-python",
   "name": "python",
   "nbconvert_exporter": "python",
   "pygments_lexer": "ipython3",
   "version": "3.6.4"
  }
 },
 "nbformat": 4,
 "nbformat_minor": 2
}
