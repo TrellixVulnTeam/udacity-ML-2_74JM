{
 "cells": [
  {
   "cell_type": "markdown",
   "metadata": {},
   "source": [
    "# 机器学习工程师纳米学位\n",
    "## 模型评价与验证\n",
    "## 项目 1: 预测波士顿房价\n",
    "\n",
    "\n",
    "欢迎来到机器学习工程师纳米学位的第一个项目！在此文件中，有些示例代码已经提供给你，但你还需要实现更多的功能来让项目成功运行。除非有明确要求，你无须修改任何已给出的代码。以**编程练习**开始的标题表示接下来的内容中有需要你必须实现的功能。每一部分都会有详细的指导，需要实现的部分也会在注释中以**TODO**标出。请仔细阅读所有的提示！\n",
    "\n",
    "除了实现代码外，你还**必须**回答一些与项目和实现有关的问题。每一个需要你回答的问题都会以**'问题 X'**为标题。请仔细阅读每个问题，并且在问题后的**'回答'**文字框中写出完整的答案。你的项目将会根据你对问题的回答和撰写代码所实现的功能来进行评分。\n",
    "\n",
    ">**提示：**Code 和 Markdown 区域可通过 **Shift + Enter** 快捷键运行。此外，Markdown可以通过双击进入编辑模式。"
   ]
  },
  {
   "cell_type": "markdown",
   "metadata": {},
   "source": [
    "---\n",
    "## 第一步. 导入数据\n",
    "在这个项目中，你将利用马萨诸塞州波士顿郊区的房屋信息数据训练和测试一个模型，并对模型的性能和预测能力进行测试。通过该数据训练后的好的模型可以被用来对房屋做特定预测---尤其是对房屋的价值。对于房地产经纪等人的日常工作来说，这样的预测模型被证明非常有价值。\n",
    "\n",
    "此项目的数据集来自[UCI机器学习知识库(数据集已下线)](https://archive.ics.uci.edu/ml/datasets.html)。波士顿房屋这些数据于1978年开始统计，共506个数据点，涵盖了麻省波士顿不同郊区房屋14种特征的信息。本项目对原始数据集做了以下处理：\n",
    "- 有16个`'MEDV'` 值为50.0的数据点被移除。 这很可能是由于这些数据点包含**遗失**或**看不到的值**。\n",
    "- 有1个数据点的 `'RM'` 值为8.78. 这是一个异常值，已经被移除。\n",
    "- 对于本项目，房屋的`'RM'`， `'LSTAT'`，`'PTRATIO'`以及`'MEDV'`特征是必要的，其余不相关特征已经被移除。\n",
    "- `'MEDV'`特征的值已经过必要的数学转换，可以反映35年来市场的通货膨胀效应。\n",
    "\n",
    "运行下面区域的代码以载入波士顿房屋数据集，以及一些此项目所需的Python库。如果成功返回数据集的大小，表示数据集已载入成功。"
   ]
  },
  {
   "cell_type": "code",
   "execution_count": 1,
   "metadata": {
    "collapsed": true
   },
   "outputs": [],
   "source": [
    "# 载入此项目所需要的库\n",
    "import numpy as np\n",
    "import pandas as pd\n",
    "import visuals as vs # Supplementary code\n",
    "\n",
    "# 检查你的Python版本\n",
    "from sys import version_info\n",
    "if version_info.major != 2 and version_info.minor != 7:\n",
    "    raise Exception('请使用Python 2.7来完成此项目')\n",
    "    \n",
    "# 让结果在notebook中显示\n",
    "%matplotlib inline"
   ]
  },
  {
   "cell_type": "code",
   "execution_count": 3,
   "metadata": {},
   "outputs": [
    {
     "name": "stdout",
     "output_type": "stream",
     "text": [
      "Boston housing dataset has 489 data points with 4 variables each.\n"
     ]
    }
   ],
   "source": [
    "# 载入波士顿房屋的数据集\n",
    "data = pd.read_csv('housing.csv')\n",
    "prices = data['MEDV']\n",
    "features = data.drop('MEDV', axis = 1)\n",
    "    \n",
    "# 完成\n",
    "print \"Boston housing dataset has {} data points with {} variables each.\".format(*data.shape)"
   ]
  },
  {
   "cell_type": "markdown",
   "metadata": {},
   "source": [
    "---\n",
    "## 第二步. 分析数据\n",
    "在项目的第一个部分，你会对波士顿房地产数据进行初步的观察并给出你的分析。通过对数据的探索来熟悉数据可以让你更好地理解和解释你的结果。\n",
    "\n",
    "由于这个项目的最终目标是建立一个预测房屋价值的模型，我们需要将数据集分为**特征(features)**和**目标变量(target variable)**。\n",
    "- **特征** `'RM'`， `'LSTAT'`，和 `'PTRATIO'`，给我们提供了每个数据点的数量相关的信息。\n",
    "- **目标变量**：` 'MEDV'`，是我们希望预测的变量。\n",
    "\n",
    "他们分别被存在`features`和`prices`两个变量名中。"
   ]
  },
  {
   "cell_type": "markdown",
   "metadata": {},
   "source": [
    "### 编程练习 1：基础统计运算\n",
    "你的第一个编程练习是计算有关波士顿房价的描述统计数据。我们已为你导入了` numpy `，你需要使用这个库来执行必要的计算。这些统计数据对于分析模型的预测结果非常重要的。\n",
    "在下面的代码中，你要做的是：\n",
    "- 计算`prices`中的`'MEDV'`的最小值、最大值、均值、中值和标准差；\n",
    "- 将运算结果储存在相应的变量中。"
   ]
  },
  {
   "cell_type": "code",
   "execution_count": 4,
   "metadata": {},
   "outputs": [
    {
     "name": "stdout",
     "output_type": "stream",
     "text": [
      "Statistics for Boston housing dataset:\n",
      "\n",
      "Minimum price: $105,000.00\n",
      "Maximum price: $1,024,800.00\n",
      "Mean price: $454,342.94\n",
      "Median price $438,900.00\n",
      "Standard deviation of prices: $165,171.13\n"
     ]
    }
   ],
   "source": [
    "#TODO 1\n",
    "\n",
    "#目标：计算价值的最小值\n",
    "minimum_price = np.min(prices)\n",
    "\n",
    "#目标：计算价值的最大值\n",
    "maximum_price = np.max(prices)\n",
    "\n",
    "#目标：计算价值的平均值\n",
    "mean_price = np.mean(prices)\n",
    "\n",
    "#目标：计算价值的中值\n",
    "median_price = np.median(prices)\n",
    "\n",
    "#目标：计算价值的标准差\n",
    "std_price = np.std(prices)\n",
    "\n",
    "#目标：输出计算的结果\n",
    "print \"Statistics for Boston housing dataset:\\n\"\n",
    "print \"Minimum price: ${:,.2f}\".format(minimum_price)\n",
    "print \"Maximum price: ${:,.2f}\".format(maximum_price)\n",
    "print \"Mean price: ${:,.2f}\".format(mean_price)\n",
    "print \"Median price ${:,.2f}\".format(median_price)\n",
    "print \"Standard deviation of prices: ${:,.2f}\".format(std_price)"
   ]
  },
  {
   "cell_type": "markdown",
   "metadata": {},
   "source": [
    "### 问题 1 - 特征观察\n",
    "\n",
    "如前文所述，本项目中我们关注的是其中三个值:`'RM'`、`'LSTAT'` 和`'PTRATIO'`，对每一个数据点:\n",
    "- `'RM'` 是该地区中每个房屋的平均房间数量；\n",
    "- `'LSTAT'` 是指该地区有多少百分比的业主属于是低收入阶层（有工作但收入微薄）；\n",
    "- `'PTRATIO'` 是该地区的中学和小学里，学生和老师的数目比（`学生/老师`）。\n",
    "\n",
    "_凭直觉，上述三个特征中对每一个来说，你认为增大该特征的数值，`'MEDV'`的值会是**增大**还是**减小**呢？每一个答案都需要你给出理由。_\n",
    "\n",
    "**提示：**你预期一个`'RM'` 值是6的房屋跟`'RM'` 值是7的房屋相比，价值更高还是更低呢？"
   ]
  },
  {
   "cell_type": "markdown",
   "metadata": {},
   "source": [
    "### 问题 1 - 回答：\n",
    "1. 预期`'RM'`的值越大，对应的价值增大，一般来说，房间数量越多，则面积越大，总得房价也就越大，'MEDV'的值增大；\n",
    "2. 预期`'LSTAT'`的值越大，说明越多的人是属于低收入阶层，如果多数人都买不起太贵的房子，那么势必房价会低，所以'MEDV'的值减小；\n",
    "3. 预期`'PTRATIO'`的值越大，说明学生数量多，老师少，可能原因一是师资资源好，很多人喜欢让孩子在该地区上学，总体比例学生多，比如学区房，该情况下，会抬高房子的价格，'MEDV'的值增大；另一种可能是地区贫困，老师不愿意过来职教，该情况下，'MEDV'的值减小。"
   ]
  },
  {
   "cell_type": "markdown",
   "metadata": {},
   "source": [
    "### 编程练习 2: 数据分割与重排\n",
    "接下来，你需要把波士顿房屋数据集分成训练和测试两个子集。通常在这个过程中，数据也会被重排列，以消除数据集中由于顺序而产生的偏差。\n",
    "在下面的代码中，你需要\n",
    "\n",
    "使用 `sklearn.model_selection` 中的 `train_test_split`， 将`features`和`prices`的数据都分成用于训练的数据子集和用于测试的数据子集。\n",
    "  - 分割比例为：80%的数据用于训练，20%用于测试；\n",
    "  - 选定一个数值以设定 `train_test_split` 中的 `random_state` ，这会确保结果的一致性；"
   ]
  },
  {
   "cell_type": "code",
   "execution_count": 7,
   "metadata": {
    "collapsed": true
   },
   "outputs": [],
   "source": [
    "# TODO 2\n",
    "from sklearn.model_selection import train_test_split\n",
    "# 提示： 导入train_test_split\n",
    "\n",
    "X_train, X_test, y_train, y_test = train_test_split(features,prices,test_size=0.2, random_state=10)"
   ]
  },
  {
   "cell_type": "markdown",
   "metadata": {},
   "source": [
    "### 问题 2 - 训练及测试\n",
    "*将数据集按一定比例分为训练用的数据集和测试用的数据集对学习算法有什么好处？*\n",
    "\n",
    "*如果用模型已经见过的数据，例如部分训练集数据进行测试，又有什么坏处？*\n",
    "\n",
    "**提示：** 如果没有数据来对模型进行测试，会出现什么问题？"
   ]
  },
  {
   "cell_type": "markdown",
   "metadata": {},
   "source": [
    "### 问题 2 - 回答:\n",
    "1. 使用各自的训练和测试数据，使得你能基于独立数据集评估分类器或回归的性能；\n",
    "2. 测试数据作为过度拟合的检查因素，检测算法的好坏；\n",
    "3. 如果数据太少或者没有，那这种训练出来的模型泛化性能会很差。"
   ]
  },
  {
   "cell_type": "markdown",
   "metadata": {},
   "source": [
    "---\n",
    "## 第三步. 模型衡量标准\n",
    "在项目的第三步中，你需要了解必要的工具和技巧来让你的模型进行预测。用这些工具和技巧对每一个模型的表现做精确的衡量可以极大地增强你预测的信心。"
   ]
  },
  {
   "cell_type": "markdown",
   "metadata": {},
   "source": [
    "### 编程练习3：定义衡量标准\n",
    "如果不能对模型的训练和测试的表现进行量化地评估，我们就很难衡量模型的好坏。通常我们会定义一些衡量标准，这些标准可以通过对某些误差或者拟合程度的计算来得到。在这个项目中，你将通过运算[*决定系数*](http://stattrek.com/statistics/dictionary.aspx?definition=coefficient_of_determination) R<sup>2</sup> 来量化模型的表现。模型的决定系数是回归分析中十分常用的统计信息，经常被当作衡量模型预测能力好坏的标准。\n",
    "\n",
    "R<sup>2</sup>的数值范围从0至1，表示**目标变量**的预测值和实际值之间的相关程度平方的百分比。一个模型的R<sup>2</sup> 值为0还不如直接用**平均值**来预测效果好；而一个R<sup>2</sup> 值为1的模型则可以对目标变量进行完美的预测。从0至1之间的数值，则表示该模型中目标变量中有百分之多少能够用**特征**来解释。_模型也可能出现负值的R<sup>2</sup>，这种情况下模型所做预测有时会比直接计算目标变量的平均值差很多。_\n",
    "\n",
    "在下方代码的 `performance_metric` 函数中，你要实现：\n",
    "- 使用 `sklearn.metrics` 中的 [`r2_score`](http://scikit-learn.org/stable/modules/generated/sklearn.metrics.r2_score.html) 来计算 `y_true` 和 `y_predict`的R<sup>2</sup>值，作为对其表现的评判。\n",
    "- 将他们的表现评分储存到`score`变量中。\n",
    "\n",
    "或 \n",
    "\n",
    "- (可选) 不使用任何外部库，参考[决定系数的定义](https://en.wikipedia.org/wiki/Coefficient_of_determination)进行计算，这也可以帮助你更好的理解决定系数在什么情况下等于0或等于1。"
   ]
  },
  {
   "cell_type": "code",
   "execution_count": 8,
   "metadata": {
    "collapsed": true
   },
   "outputs": [],
   "source": [
    "# TODO 3\n",
    "from sklearn.metrics import r2_score\n",
    "# 提示： 导入r2_score\n",
    "\n",
    "def performance_metric(y_true, y_predict):\n",
    "    \"\"\"计算并返回预测值相比于预测值的分数\"\"\"\n",
    "    \n",
    "    score = r2_score(y_true, y_predict)\n",
    "\n",
    "    return score"
   ]
  },
  {
   "cell_type": "code",
   "execution_count": null,
   "metadata": {
    "collapsed": true
   },
   "outputs": [],
   "source": [
    "# TODO 3 可选\n",
    "\n",
    "# 不允许导入任何计算决定系数的库\n",
    "\n",
    "def performance_metric2(y_true, y_predict):\n",
    "    \"\"\"计算并返回预测值相比于预测值的分数\"\"\"\n",
    "    \n",
    "    score = None\n",
    "\n",
    "    return score"
   ]
  },
  {
   "cell_type": "markdown",
   "metadata": {},
   "source": [
    "### 问题 3 - 拟合程度\n",
    "\n",
    "假设一个数据集有五个数据且一个模型做出下列目标变量的预测：\n",
    "\n",
    "| 真实数值 | 预测数值 |\n",
    "| :-------------: | :--------: |\n",
    "| 3.0 | 2.5 |\n",
    "| -0.5 | 0.0 |\n",
    "| 2.0 | 2.1 |\n",
    "| 7.0 | 7.8 |\n",
    "| 4.2 | 5.3 |\n",
    "*你觉得这个模型已成功地描述了目标变量的变化吗？如果成功，请解释为什么，如果没有，也请给出原因。*  \n",
    "\n",
    "**提示**：运行下方的代码，使用`performance_metric`函数来计算模型的决定系数。"
   ]
  },
  {
   "cell_type": "code",
   "execution_count": 9,
   "metadata": {},
   "outputs": [
    {
     "name": "stdout",
     "output_type": "stream",
     "text": [
      "Model has a coefficient of determination, R^2, of 0.923.\n"
     ]
    }
   ],
   "source": [
    "# 计算这个模型的预测结果的决定系数\n",
    "score = performance_metric([3, -0.5, 2, 7, 4.2], [2.5, 0.0, 2.1, 7.8, 5.3])\n",
    "print \"Model has a coefficient of determination, R^2, of {:.3f}.\".format(score)"
   ]
  },
  {
   "cell_type": "markdown",
   "metadata": {},
   "source": [
    "### 问题 3 - 回答:\n",
    "虽然通过计算R^2的值可以看出结果0.923已经很不错了，但是由于数据集太少，这样的模型意义不大，很有可能新的数据进来后，会有很大的偏差。"
   ]
  },
  {
   "cell_type": "markdown",
   "metadata": {},
   "source": [
    "---\n",
    "## 第四步. 分析模型的表现\n",
    "在项目的第四步，我们来看一下不同参数下，模型在训练集和验证集上的表现。这里，我们专注于一个特定的算法（带剪枝的决策树，但这并不是这个项目的重点），和这个算法的一个参数 `'max_depth'`。用全部训练集训练，选择不同`'max_depth'` 参数，观察这一参数的变化如何影响模型的表现。画出模型的表现来对于分析过程十分有益，这可以让我们看到一些单看结果看不到的行为。"
   ]
  },
  {
   "cell_type": "markdown",
   "metadata": {},
   "source": [
    "### 学习曲线\n",
    "下方区域内的代码会输出四幅图像，它们是一个决策树模型在不同最大深度下的表现。每一条曲线都直观得显示了随着训练数据量的增加，模型学习曲线的在训练集评分和验证集评分的变化，评分使用决定系数R<sup>2</sup>。曲线的阴影区域代表的是该曲线的不确定性（用标准差衡量）。\n",
    "\n",
    "运行下方区域中的代码，并利用输出的图形回答下面的问题。"
   ]
  },
  {
   "cell_type": "code",
   "execution_count": 10,
   "metadata": {
    "scrolled": false
   },
   "outputs": [
    {
     "data": {
      "image/png": "[encoded data removed]",
      "text/plain": [
       "<matplotlib.figure.Figure at 0x1119d64d0>"
      ]
     },
     "metadata": {},
     "output_type": "display_data"
    }
   ],
   "source": [
    "# 根据不同的训练集大小，和最大深度，生成学习曲线\n",
    "vs.ModelLearning(X_train, y_train)"
   ]
  },
  {
   "cell_type": "markdown",
   "metadata": {},
   "source": [
    "### 问题 4 - 学习曲线\n",
    "*选择上述图像中的其中一个，并给出其最大深度。随着训练数据量的增加，训练集曲线的评分有怎样的变化？验证集曲线呢？如果有更多的训练数据，是否能有效提升模型的表现呢？*\n",
    "\n",
    "**提示：**学习曲线的评分是否最终会收敛到特定的值？"
   ]
  },
  {
   "cell_type": "markdown",
   "metadata": {},
   "source": [
    "### 问题 4 - 回答:\n",
    "图二，max_depth=3。随着训练点数量的增加，训练集曲线的评分继续缓慢下降，验证集曲线的评分缓慢上升，收敛到0.8，变化速率缓慢。如果有更多的训练数据，一般不会有效提升模型的表现。"
   ]
  },
  {
   "cell_type": "markdown",
   "metadata": {},
   "source": [
    "### 复杂度曲线\n",
    "下列代码内的区域会输出一幅图像，它展示了一个已经经过训练和验证的决策树模型在不同最大深度条件下的表现。这个图形将包含两条曲线，一个是训练集的变化，一个是验证集的变化。跟**学习曲线**相似，阴影区域代表该曲线的不确定性，模型训练和测试部分的评分都用的 `performance_metric` 函数。\n",
    "\n",
    "运行下方区域中的代码，并利用输出的图形并回答下面的两个问题。"
   ]
  },
  {
   "cell_type": "code",
   "execution_count": 11,
   "metadata": {},
   "outputs": [
    {
     "data": {
      "image/png": "[encoded data removed]",
      "text/plain": [
       "<matplotlib.figure.Figure at 0x114f44f90>"
      ]
     },
     "metadata": {},
     "output_type": "display_data"
    }
   ],
   "source": [
    "# 根据不同的最大深度参数，生成复杂度曲线\n",
    "vs.ModelComplexity(X_train, y_train)"
   ]
  },
  {
   "cell_type": "markdown",
   "metadata": {},
   "source": [
    "### 问题 5 - 偏差（bias）与方差（variance）之间的权衡取舍\n",
    "*当模型以最大深度 1训练时，模型的预测是出现很大的偏差还是出现了很大的方差？当模型以最大深度10训练时，情形又如何呢？图形中的哪些特征能够支持你的结论？*\n",
    "  \n",
    "**提示：** 你如何得知模型是否出现了偏差很大或者方差很大的问题？"
   ]
  },
  {
   "cell_type": "markdown",
   "metadata": {},
   "source": [
    "### 问题 5 - 回答:\n",
    "当模型以最大深度1训练时，training score和validation score都很低，评估为undercutting，出现了很大的偏差；\n",
    "当模型以最大深度10训练时，training score很高，但validation score很低，评估为overfitting，出现很大的方差。\n",
    "参考地址：[Udacity论坛讨论](https://discussions.youdaxue.com/t/topic/35878/3)"
   ]
  },
  {
   "cell_type": "markdown",
   "metadata": {},
   "source": [
    "### 问题 6- 最优模型的猜测\n",
    "*结合问题 5 中的图，你认为最大深度是多少的模型能够最好地对未见过的数据进行预测？你得出这个答案的依据是什么？*"
   ]
  },
  {
   "cell_type": "markdown",
   "metadata": {},
   "source": [
    "### 问题 6 - 回答:\n",
    "最大深度是4的模型能够最好的对未见数据进行预测，此时的validation score的值最大，之后开始降低；training score一直呈上升趋势。"
   ]
  },
  {
   "cell_type": "markdown",
   "metadata": {},
   "source": [
    "---\n",
    "## 第五步. 选择最优参数"
   ]
  },
  {
   "cell_type": "markdown",
   "metadata": {},
   "source": [
    "### 问题 7- 网格搜索（Grid Search）\n",
    "*什么是网格搜索法？如何用它来优化模型？*\n"
   ]
  },
  {
   "cell_type": "markdown",
   "metadata": {},
   "source": [
    "### 问题 7 - 回答:\n",
    "- 网格搜索法是将整体数据等分成多个子集数据，然后分别做验证算法；\n",
    "- 通过网格搜索法做交叉验证，确定参数，对所有参数组合进行计算，最后得出一个最优的结果；\n",
    "- 评分使用决定系数R^2，调节每一个参数来跟踪评分结果来优化模型。\n",
    "参考地址：[CSDN博客](http://blog.csdn.net/jasonding1354/article/details/50562522)"
   ]
  },
  {
   "cell_type": "markdown",
   "metadata": {},
   "source": [
    "### 问题 8 - 交叉验证\n",
    "- 什么是K折交叉验证法（k-fold cross-validation）？\n",
    "- [GridSearchCV](http://scikit-learn.org/stable/modules/generated/sklearn.model_selection.GridSearchCV.html)是如何结合交叉验证来完成对最佳参数组合的选择的？\n",
    "- [GridSearchCV](http://scikit-learn.org/stable/modules/generated/sklearn.model_selection.GridSearchCV.html)中的`'cv_results_'`属性能告诉我们什么？\n",
    "- 网格搜索时如果不使用交叉验证会有什么问题？交叉验证又是如何解决这个问题的？\n",
    "\n",
    "**提示：** 在下面 fit_model函数最后加入 `print pd.DataFrame(grid.cv_results_)` 可以帮你查看更多信息。"
   ]
  },
  {
   "cell_type": "markdown",
   "metadata": {},
   "source": [
    "### 问题 8 - 回答：\n",
    "- K折交叉验证法是将训练数据平分到相同大小的K容器内。在每次实验中，将从这k个子集中挑选一个作为验证集，剩下的k-1个容器放在一起作为训练集，然后训练机器学习算法。在验证集上验证性能，操作会验证多次，然后获得每次表现的平均值；\n",
    "- 遍历多种参数组合，通过交叉验证确定最佳效果参数；\n",
    "- `'cv_results_'`属性能告诉我们每次交叉验证计算后获得的测试评分、权重等信息；\n",
    "- 网格搜索时如果不使用交叉验证，对数据集不做打乱操作，只是简单的切分，那么相似的数据可能会放在一个子集中，得到的结果会偏低或偏高。交叉验证避免了这种情况，通过多次训练多次验证，获得每次表现的平均值，最后得出最优结果。"
   ]
  },
  {
   "cell_type": "markdown",
   "metadata": {},
   "source": [
    "### 编程练习 4：训练最优模型\n",
    "在这个练习中，你将需要将所学到的内容整合，使用**决策树算法**训练一个模型。为了得出的是一个最优模型，你需要使用网格搜索法训练模型，以找到最佳的 `'max_depth'` 参数。你可以把`'max_depth'` 参数理解为决策树算法在做出预测前，允许其对数据提出问题的数量。决策树是**监督学习算法**中的一种。\n",
    "\n",
    "在下方 `fit_model` 函数中，你需要做的是：\n",
    "1. **定义 `'cross_validator'` 变量**: 使用 `sklearn.model_selection` 中的 [`KFold`](http://scikit-learn.org/stable/modules/generated/sklearn.model_selection.KFold.html) 创建一个交叉验证生成器对象;\n",
    "2. **定义 `'regressor'` 变量**: 使用  `sklearn.tree` 中的 [`DecisionTreeRegressor`](http://scikit-learn.org/stable/modules/generated/sklearn.tree.DecisionTreeRegressor.html) 创建一个决策树的回归函数;\n",
    "3. **定义 `'params'` 变量**: 为 `'max_depth'` 参数创造一个字典，它的值是从1至10的数组;\n",
    "4. **定义 `'scoring_fnc'` 变量**: 使用 `sklearn.metrics` 中的 [`make_scorer`](http://scikit-learn.org/stable/modules/generated/sklearn.metrics.make_scorer.html)  创建一个评分函数；\n",
    " 将 `‘performance_metric’` 作为参数传至这个函数中；\n",
    "5. **定义 `'grid'` 变量**: 使用 `sklearn.model_selection` 中的 [`GridSearchCV`](http://scikit-learn.org/stable/modules/generated/sklearn.model_selection.GridSearchCV.html) 创建一个网格搜索对象；将变量`'regressor'`, `'params'`, `'scoring_fnc'`和 `'cross_validator'` 作为参数传至这个对象构造函数中；\n",
    "  \n",
    "如果你对python函数的默认参数定义和传递不熟悉，可以参考这个MIT课程的[视频](http://cn-static.udacity.com/mlnd/videos/MIT600XXT114-V004200_DTH.mp4)。"
   ]
  },
  {
   "cell_type": "code",
   "execution_count": 73,
   "metadata": {
    "collapsed": true
   },
   "outputs": [],
   "source": [
    "# TODO 4\n",
    "from sklearn.model_selection import KFold,GridSearchCV\n",
    "from sklearn.tree import DecisionTreeRegressor\n",
    "from sklearn.metrics import make_scorer\n",
    "\n",
    "#提示: 导入 'KFold' 'DecisionTreeRegressor' 'make_scorer' 'GridSearchCV' \n",
    "\n",
    "\n",
    "def fit_model(X, y):\n",
    "    \"\"\" 基于输入数据 [X,y]，利于网格搜索找到最优的决策树模型\"\"\"\n",
    "#     print X, y\n",
    "    cross_validator = KFold(n_splits = 3, shuffle=True)\n",
    "    \n",
    "    regressor = DecisionTreeRegressor(random_state=0)\n",
    "\n",
    "    params = {'max_depth':[ii for ii in xrange(1,11)]}\n",
    "\n",
    "    scoring_fnc = make_scorer(performance_metric)\n",
    "\n",
    "    grid = GridSearchCV(regressor, params, scoring_fnc, cv=cross_validator)\n",
    "\n",
    "    # 基于输入数据 [X,y]，进行网格搜索\n",
    "    grid = grid.fit(X, y)\n",
    "    print pd.DataFrame(grid.cv_results_) \n",
    "    # 返回网格搜索后的最优模型\n",
    "    return grid.best_estimator_\n"
   ]
  },
  {
   "cell_type": "markdown",
   "metadata": {},
   "source": [
    "### 编程练习 4：训练最优模型 （可选）\n",
    "在这个练习中，你将需要将所学到的内容整合，使用**决策树算法**训练一个模型。为了得出的是一个最优模型，你需要使用网格搜索法训练模型，以找到最佳的 `'max_depth'` 参数。你可以把`'max_depth'` 参数理解为决策树算法在做出预测前，允许其对数据提出问题的数量。决策树是**监督学习算法**中的一种。\n",
    "\n",
    "在下方 `fit_model` 函数中，你需要做的是：\n",
    "\n",
    "- 遍历参数`‘max_depth’`的可选值 1～10，构造对应模型\n",
    "- 计算当前模型的交叉验证分数\n",
    "- 返回最优交叉验证分数对应的模型"
   ]
  },
  {
   "cell_type": "code",
   "execution_count": null,
   "metadata": {
    "collapsed": true
   },
   "outputs": [],
   "source": [
    "# TODO 4 可选\n",
    "\n",
    "'''\n",
    "不允许使用 DecisionTreeRegressor 以外的任何 sklearn 库\n",
    "\n",
    "提示: 你可能需要实现下面的 cross_val_score 函数\n",
    "\n",
    "def cross_val_score(estimator, X, y, scoring = performance_metric, cv=3):\n",
    "    \"\"\" 返回每组交叉验证的模型分数的数组 \"\"\"\n",
    "    scores = [0,0,0]\n",
    "    return scores\n",
    "'''\n",
    "\n",
    "def fit_model2(X, y):\n",
    "    \"\"\" 基于输入数据 [X,y]，利于网格搜索找到最优的决策树模型\"\"\"\n",
    "    \n",
    "    #最优交叉验证分数对应的最优模型\n",
    "    best_estimator = None\n",
    "    \n",
    "    return best_estimator"
   ]
  },
  {
   "cell_type": "markdown",
   "metadata": {},
   "source": [
    "### 问题 9 - 最优模型\n",
    "*最优模型的最大深度（maximum depth）是多少？此答案与你在**问题 6**所做的猜测是否相同？*\n",
    "\n",
    "运行下方区域内的代码，将决策树回归函数代入训练数据的集合，以得到最优化的模型。"
   ]
  },
  {
   "cell_type": "code",
   "execution_count": 68,
   "metadata": {
    "scrolled": true
   },
   "outputs": [
    {
     "name": "stdout",
     "output_type": "stream",
     "text": [
      "   mean_fit_time  mean_score_time  mean_test_score  mean_train_score  \\\n",
      "0       0.000959         0.000363         0.359549          0.497775   \n",
      "1       0.000925         0.000348         0.623712          0.755663   \n",
      "2       0.000813         0.000313         0.743127          0.838109   \n",
      "3       0.000969         0.000352         0.786169          0.889249   \n",
      "4       0.001027         0.000361         0.785179          0.912595   \n",
      "5       0.001113         0.000346         0.778339          0.938283   \n",
      "6       0.001334         0.000358         0.740686          0.957776   \n",
      "7       0.001010         0.000319         0.711288          0.973677   \n",
      "8       0.001289         0.000373         0.721819          0.983749   \n",
      "9       0.001657         0.000532         0.697499          0.990623   \n",
      "\n",
      "  param_max_depth              params  rank_test_score  split0_test_score  \\\n",
      "0               1   {u'max_depth': 1}               10           0.304694   \n",
      "1               2   {u'max_depth': 2}                9           0.595151   \n",
      "2               3   {u'max_depth': 3}                4           0.652945   \n",
      "3               4   {u'max_depth': 4}                1           0.726172   \n",
      "4               5   {u'max_depth': 5}                2           0.714264   \n",
      "5               6   {u'max_depth': 6}                3           0.709139   \n",
      "6               7   {u'max_depth': 7}                5           0.644413   \n",
      "7               8   {u'max_depth': 8}                7           0.639852   \n",
      "8               9   {u'max_depth': 9}                6           0.672492   \n",
      "9              10  {u'max_depth': 10}                8           0.618904   \n",
      "\n",
      "   split0_train_score  split1_test_score  split1_train_score  \\\n",
      "0            0.536094           0.439972            0.472313   \n",
      "1            0.772960           0.709782            0.740380   \n",
      "2            0.846030           0.828748            0.827913   \n",
      "3            0.895726           0.854152            0.879345   \n",
      "4            0.917996           0.860092            0.904438   \n",
      "5            0.937980           0.852546            0.938558   \n",
      "6            0.959304           0.832220            0.958536   \n",
      "7            0.974112           0.809832            0.971795   \n",
      "8            0.981934           0.804171            0.985960   \n",
      "9            0.987987           0.800582            0.993140   \n",
      "\n",
      "   split2_test_score  split2_train_score  std_fit_time  std_score_time  \\\n",
      "0           0.334404            0.484919      0.000264        0.000066   \n",
      "1           0.566424            0.753648      0.000073        0.000024   \n",
      "2           0.748381            0.840385      0.000044        0.000005   \n",
      "3           0.778645            0.892677      0.000028        0.000006   \n",
      "4           0.781728            0.915352      0.000036        0.000022   \n",
      "5           0.773862            0.938311      0.000094        0.000009   \n",
      "6           0.746163            0.955489      0.000356        0.000041   \n",
      "7           0.684730            0.975124      0.000003        0.000003   \n",
      "8           0.689174            0.983355      0.000186        0.000060   \n",
      "9           0.673616            0.990742      0.000449        0.000109   \n",
      "\n",
      "   std_test_score  std_train_score  \n",
      "0        0.058042         0.027580  \n",
      "1        0.061867         0.013377  \n",
      "2        0.071913         0.007569  \n",
      "3        0.052549         0.007113  \n",
      "4        0.059621         0.005868  \n",
      "5        0.058668         0.000237  \n",
      "6        0.076818         0.001648  \n",
      "7        0.071923         0.001393  \n",
      "8        0.058518         0.001667  \n",
      "9        0.076107         0.002106  \n",
      "Parameter 'max_depth' is 4 for the optimal model.\n"
     ]
    }
   ],
   "source": [
    "# 基于训练数据，获得最优模型\n",
    "optimal_reg = fit_model(X_train, y_train)\n",
    "\n",
    "# 输出最优模型的 'max_depth' 参数\n",
    "print \"Parameter 'max_depth' is {} for the optimal model.\".format(optimal_reg.get_params()['max_depth'])"
   ]
  },
  {
   "cell_type": "markdown",
   "metadata": {},
   "source": [
    "### 问题 9 - 回答：\n",
    "最优模型的最大深度是4，与**问题6**的判断相同。"
   ]
  },
  {
   "cell_type": "markdown",
   "metadata": {},
   "source": [
    "## 第六步. 做出预测\n",
    "当我们用数据训练出一个模型，它现在就可用于对新的数据进行预测。在决策树回归函数中，模型已经学会对新输入的数据*提问*，并返回对**目标变量**的预测值。你可以用这个预测来获取数据未知目标变量的信息，这些数据必须是不包含在训练数据之内的。"
   ]
  },
  {
   "cell_type": "markdown",
   "metadata": {},
   "source": [
    "### 问题 10 - 预测销售价格\n",
    "想像你是一个在波士顿地区的房屋经纪人，并期待使用此模型以帮助你的客户评估他们想出售的房屋。你已经从你的三个客户收集到以下的资讯:\n",
    "\n",
    "| 特征 | 客戶 1 | 客戶 2 | 客戶 3 |\n",
    "| :---: | :---: | :---: | :---: |\n",
    "| 房屋内房间总数 | 5 间房间 | 4 间房间 | 8 间房间 |\n",
    "| 社区贫困指数（％被认为是贫困阶层） | 17% | 32% | 3% |\n",
    "| 邻近学校的学生-老师比例 | 15：1 | 22：1 | 12：1 |\n",
    "\n",
    "*你会建议每位客户的房屋销售的价格为多少？从房屋特征的数值判断，这样的价格合理吗？为什么？* \n",
    "\n",
    "**提示：**用你在**分析数据**部分计算出来的统计信息来帮助你证明你的答案。\n",
    "\n",
    "运行下列的代码区域，使用你优化的模型来为每位客户的房屋价值做出预测。"
   ]
  },
  {
   "cell_type": "code",
   "execution_count": 64,
   "metadata": {},
   "outputs": [
    {
     "name": "stdout",
     "output_type": "stream",
     "text": [
      "Predicted selling price for Client 1's home: $406,933.33\n",
      "Predicted selling price for Client 2's home: $232,200.00\n",
      "Predicted selling price for Client 3's home: $938,053.85\n"
     ]
    }
   ],
   "source": [
    "# 生成三个客户的数据\n",
    "client_data = [[5, 17, 15], # 客户 1\n",
    "               [4, 32, 22], # 客户 2\n",
    "               [8, 3, 12]]  # 客户 3\n",
    "\n",
    "# 进行预测\n",
    "predicted_price = optimal_reg.predict(client_data)\n",
    "for i, price in enumerate(predicted_price):\n",
    "    print \"Predicted selling price for Client {}'s home: ${:,.2f}\".format(i+1, price)"
   ]
  },
  {
   "cell_type": "markdown",
   "metadata": {},
   "source": [
    "### 问题 10 - 回答：\n",
    "建议每位客户的房屋销售的价格分别为：\n",
    "- 客户1：406,933.33美元\n",
    "- 客户2：232,200.00美元\n",
    "- 客户3：938,053.85美元\n",
    "\n",
    "三位客户的房价均值是**525,729.06**美元，最大值**938,053.85**美元，最小值**232,200.00**美元。客户2的价格最低，房间数是4，社区贫困指数32%，和客户1的信息对比，房屋数量相近，但是贫困指数却相差近2倍，对应的价格相差近2倍，学生对老师比例22:1，可以看出贫困指数对于房屋价格的影响为主要因素，属于合理价格；客户3的价格最高，房间数是8，是客户1房间数的近2倍，说明面积比较大，社区贫困指数3%，说明该地区的人都偏富裕，虽然面积大，相对均价会降低，但由于富裕程度高，还是有市场需求的，学生对老师比例12:1，可以看出房屋价格主要取决于面积大和富裕程度。"
   ]
  },
  {
   "cell_type": "markdown",
   "metadata": {},
   "source": [
    "### 编程练习 5\n",
    "你刚刚预测了三个客户的房子的售价。在这个练习中，你将用你的最优模型在整个测试数据上进行预测, 并计算相对于目标变量的决定系数 R<sup>2</sup>的值**。"
   ]
  },
  {
   "cell_type": "code",
   "execution_count": 60,
   "metadata": {},
   "outputs": [
    {
     "name": "stdout",
     "output_type": "stream",
     "text": [
      "Optimal model has R^2 score 0.75 on test data\n"
     ]
    }
   ],
   "source": [
    "#TODO 5\n",
    "\n",
    "# 提示：你可能需要用到 X_test, y_test, optimal_reg, performance_metric\n",
    "# 提示：你可能需要参考问题10的代码进行预测\n",
    "# 提示：你可能需要参考问题3的代码来计算R^2的值\n",
    "pred = optimal_reg.predict(X_test)\n",
    "r2 = performance_metric(y_test, pred)\n",
    "\n",
    "print \"Optimal model has R^2 score {:,.2f} on test data\".format(r2)"
   ]
  },
  {
   "cell_type": "markdown",
   "metadata": {},
   "source": [
    "### 问题11 - 分析决定系数\n",
    "\n",
    "你刚刚计算了最优模型在测试集上的决定系数，你会如何评价这个结果？"
   ]
  },
  {
   "cell_type": "markdown",
   "metadata": {},
   "source": [
    "### 问题11 - 回答\n",
    "R^2的分数为0.75，说明模型在测试集上具有一定的拟合能力，但还是不够好，有待提升。"
   ]
  },
  {
   "cell_type": "markdown",
   "metadata": {},
   "source": [
    "### 模型健壮性\n",
    "\n",
    "一个最优的模型不一定是一个健壮模型。有的时候模型会过于复杂或者过于简单，以致于难以泛化新增添的数据；有的时候模型采用的学习算法并不适用于特定的数据结构；有的时候样本本身可能有太多噪点或样本过少，使得模型无法准确地预测目标变量。这些情况下我们会说模型是欠拟合的。\n",
    "\n",
    "### 问题 12 - 模型健壮性\n",
    "\n",
    "模型是否足够健壮来保证预测的一致性？\n",
    "\n",
    "**提示**: 执行下方区域中的代码，采用不同的训练和测试集执行 `fit_model` 函数10次。注意观察对一个特定的客户来说，预测是如何随训练数据的变化而变化的。"
   ]
  },
  {
   "cell_type": "code",
   "execution_count": 72,
   "metadata": {},
   "outputs": [
    {
     "name": "stdout",
     "output_type": "stream",
     "text": [
      "   mean_fit_time  mean_score_time  mean_test_score  mean_train_score  \\\n",
      "0       0.000805         0.000331         0.428257          0.475570   \n",
      "1       0.000884         0.000339         0.682120          0.743635   \n",
      "2       0.000804         0.000316         0.782938          0.841665   \n",
      "3       0.000945         0.000337         0.807066          0.882465   \n",
      "4       0.000965         0.000355         0.784069          0.912498   \n",
      "5       0.001218         0.000379         0.758347          0.932790   \n",
      "6       0.001571         0.000443         0.749817          0.952541   \n",
      "7       0.001195         0.000349         0.739567          0.967747   \n",
      "8       0.001278         0.000386         0.727951          0.978610   \n",
      "9       0.001931         0.000495         0.722890          0.984333   \n",
      "\n",
      "  param_max_depth              params  rank_test_score  split0_test_score  \\\n",
      "0               1   {u'max_depth': 1}               10           0.520579   \n",
      "1               2   {u'max_depth': 2}                9           0.723988   \n",
      "2               3   {u'max_depth': 3}                3           0.789194   \n",
      "3               4   {u'max_depth': 4}                1           0.820573   \n",
      "4               5   {u'max_depth': 5}                2           0.815643   \n",
      "5               6   {u'max_depth': 6}                4           0.811432   \n",
      "6               7   {u'max_depth': 7}                5           0.788015   \n",
      "7               8   {u'max_depth': 8}                6           0.785407   \n",
      "8               9   {u'max_depth': 9}                7           0.780293   \n",
      "9              10  {u'max_depth': 10}                8           0.773773   \n",
      "\n",
      "   split0_train_score  split1_test_score  split1_train_score  \\\n",
      "0            0.417894           0.378900            0.504867   \n",
      "1            0.724568           0.702306            0.737787   \n",
      "2            0.830134           0.808275            0.848671   \n",
      "3            0.870069           0.794805            0.892984   \n",
      "4            0.902630           0.746072            0.924303   \n",
      "5            0.919611           0.679481            0.949165   \n",
      "6            0.938963           0.688595            0.965399   \n",
      "7            0.958796           0.659965            0.976711   \n",
      "8            0.974752           0.661080            0.984136   \n",
      "9            0.980263           0.662996            0.988888   \n",
      "\n",
      "   split2_test_score  split2_train_score  std_fit_time  std_score_time  \\\n",
      "0           0.384581            0.503950      0.000139        0.000041   \n",
      "1           0.619744            0.768549      0.000100        0.000009   \n",
      "2           0.751295            0.846189      0.000026        0.000009   \n",
      "3           0.805717            0.884341      0.000012        0.000004   \n",
      "4           0.790247            0.910560      0.000029        0.000029   \n",
      "5           0.783720            0.929594      0.000197        0.000033   \n",
      "6           0.772546            0.953260      0.000357        0.000090   \n",
      "7           0.772977            0.967735      0.000145        0.000030   \n",
      "8           0.742077            0.976943      0.000064        0.000028   \n",
      "9           0.731509            0.983849      0.000480        0.000095   \n",
      "\n",
      "   std_test_score  std_train_score  \n",
      "0        0.065573         0.040785  \n",
      "1        0.044904         0.018425  \n",
      "2        0.023653         0.008216  \n",
      "3        0.010570         0.009449  \n",
      "4        0.028753         0.008954  \n",
      "5        0.056799         0.012275  \n",
      "6        0.043667         0.010804  \n",
      "7        0.056408         0.007314  \n",
      "8        0.049709         0.004009  \n",
      "9        0.045660         0.003538  \n",
      "Trial 1: $391,183.33\n",
      "   mean_fit_time  mean_score_time  mean_test_score  mean_train_score  \\\n",
      "0       0.001630         0.000476         0.349540          0.470374   \n",
      "1       0.000910         0.000357         0.616808          0.727112   \n",
      "2       0.000799         0.000310         0.768553          0.830558   \n",
      "3       0.000858         0.000341         0.781270          0.878677   \n",
      "4       0.000899         0.000316         0.778974          0.906561   \n",
      "5       0.001364         0.000384         0.756032          0.929343   \n",
      "6       0.001069         0.000337         0.737433          0.950181   \n",
      "7       0.001027         0.000324         0.723923          0.966026   \n",
      "8       0.001046         0.000324         0.717978          0.976116   \n",
      "9       0.001173         0.000323         0.687030          0.987499   \n",
      "\n",
      "  param_max_depth              params  rank_test_score  split0_test_score  \\\n",
      "0               1   {u'max_depth': 1}               10           0.352779   \n",
      "1               2   {u'max_depth': 2}                9           0.608243   \n",
      "2               3   {u'max_depth': 3}                3           0.759507   \n",
      "3               4   {u'max_depth': 4}                1           0.781203   \n",
      "4               5   {u'max_depth': 5}                2           0.791169   \n",
      "5               6   {u'max_depth': 6}                4           0.790911   \n",
      "6               7   {u'max_depth': 7}                5           0.781310   \n",
      "7               8   {u'max_depth': 8}                6           0.773941   \n",
      "8               9   {u'max_depth': 9}                7           0.759453   \n",
      "9              10  {u'max_depth': 10}                8           0.741067   \n",
      "\n",
      "   split0_train_score  split1_test_score  split1_train_score  \\\n",
      "0            0.464436           0.372117            0.484071   \n",
      "1            0.734563           0.626997            0.730403   \n",
      "2            0.831157           0.774055            0.829286   \n",
      "3            0.881165           0.766380            0.876280   \n",
      "4            0.908694           0.747283            0.904668   \n",
      "5            0.928510           0.728760            0.927043   \n",
      "6            0.947623           0.717267            0.949584   \n",
      "7            0.959458           0.721733            0.970833   \n",
      "8            0.973424           0.712052            0.980049   \n",
      "9            0.987100           0.647743            0.990489   \n",
      "\n",
      "   split2_test_score  split2_train_score  std_fit_time  std_score_time  \\\n",
      "0           0.323698            0.462614      0.000839        0.000134   \n",
      "1           0.615248            0.716372      0.000137        0.000070   \n",
      "2           0.772165            0.831232      0.000012        0.000005   \n",
      "3           0.796229            0.878586      0.000030        0.000022   \n",
      "4           0.798376            0.906322      0.000022        0.000007   \n",
      "5           0.748156            0.932477      0.000143        0.000039   \n",
      "6           0.713384            0.953338      0.000052        0.000007   \n",
      "7           0.675710            0.967788      0.000019        0.000005   \n",
      "8           0.682111            0.974875      0.000011        0.000006   \n",
      "9           0.671864            0.984908      0.000103        0.000006   \n",
      "\n",
      "   std_test_score  std_train_score  \n",
      "0        0.019875         0.009714  \n",
      "1        0.007740         0.007782  \n",
      "2        0.006467         0.000900  \n",
      "3        0.012171         0.001996  \n",
      "4        0.022559         0.001653  \n",
      "5        0.025991         0.002296  \n",
      "6        0.031185         0.002371  \n",
      "7        0.040158         0.004808  \n",
      "8        0.031870         0.002843  \n",
      "9        0.039597         0.002296  \n",
      "Trial 2: $411,417.39\n",
      "   mean_fit_time  mean_score_time  mean_test_score  mean_train_score  \\\n",
      "0       0.000745         0.000313         0.392066          0.476291   \n",
      "1       0.000719         0.000304         0.664102          0.741272   \n",
      "2       0.000796         0.000310         0.753216          0.830577   \n",
      "3       0.000833         0.000314         0.780993          0.883646   \n",
      "4       0.000877         0.000313         0.741972          0.917767   \n",
      "5       0.000917         0.000314         0.736725          0.944075   \n",
      "6       0.000948         0.000319         0.737155          0.962683   \n",
      "7       0.001191         0.000387         0.724580          0.977601   \n",
      "8       0.001238         0.000341         0.717493          0.986831   \n",
      "9       0.001065         0.000329         0.707710          0.992734   \n",
      "\n",
      "  param_max_depth              params  rank_test_score  split0_test_score  \\\n",
      "0               1   {u'max_depth': 1}               10           0.402221   \n",
      "1               2   {u'max_depth': 2}                9           0.629014   \n",
      "2               3   {u'max_depth': 3}                2           0.747471   \n",
      "3               4   {u'max_depth': 4}                1           0.787056   \n",
      "4               5   {u'max_depth': 5}                3           0.664999   \n",
      "5               6   {u'max_depth': 6}                5           0.644047   \n",
      "6               7   {u'max_depth': 7}                4           0.658479   \n",
      "7               8   {u'max_depth': 8}                6           0.657844   \n",
      "8               9   {u'max_depth': 9}                7           0.634418   \n",
      "9              10  {u'max_depth': 10}                8           0.624331   \n",
      "\n",
      "   split0_train_score  split1_test_score  split1_train_score  \\\n",
      "0            0.472016           0.397420            0.463020   \n",
      "1            0.753638           0.679656            0.725658   \n",
      "2            0.833872           0.769038            0.827059   \n",
      "3            0.886987           0.772349            0.879217   \n",
      "4            0.922899           0.781671            0.914685   \n",
      "5            0.951320           0.772682            0.936939   \n",
      "6            0.967586           0.778953            0.957962   \n",
      "7            0.977327           0.773524            0.976488   \n",
      "8            0.984445           0.757795            0.987788   \n",
      "9            0.991391           0.758399            0.993716   \n",
      "\n",
      "   split2_test_score  split2_train_score  std_fit_time  std_score_time  \\\n",
      "0           0.376479            0.493837      0.000083    6.575629e-06   \n",
      "1           0.683906            0.744519      0.000012    5.619580e-07   \n",
      "2           0.743184            0.830799      0.000018    1.276523e-06   \n",
      "3           0.783528            0.884734      0.000024    3.766376e-06   \n",
      "4           0.779838            0.915718      0.000013    1.296163e-06   \n",
      "5           0.794157            0.943967      0.000006    1.296163e-06   \n",
      "6           0.774637            0.962499      0.000003    5.408827e-06   \n",
      "7           0.742885            0.978989      0.000215    5.172761e-05   \n",
      "8           0.760903            0.988261      0.000058    7.640149e-06   \n",
      "9           0.741041            0.993095      0.000008    8.591895e-06   \n",
      "\n",
      "   std_test_score  std_train_score  \n",
      "0        0.011174         0.012939  \n",
      "1        0.024966         0.011651  \n",
      "2        0.011302         0.002786  \n",
      "3        0.006269         0.003264  \n",
      "4        0.054642         0.003653  \n",
      "5        0.066364         0.005871  \n",
      "6        0.055873         0.003931  \n",
      "7        0.048990         0.001039  \n",
      "8        0.058982         0.001699  \n",
      "9        0.059606         0.000983  \n",
      "Trial 3: $415,800.00\n",
      "   mean_fit_time  mean_score_time  mean_test_score  mean_train_score  \\\n",
      "0       0.000875         0.000325         0.354492          0.483202   \n",
      "1       0.000858         0.000328         0.690243          0.752103   \n",
      "2       0.000906         0.000405         0.762347          0.838143   \n",
      "3       0.001174         0.000435         0.781204          0.887702   \n",
      "4       0.000966         0.000341         0.773353          0.915231   \n",
      "5       0.001070         0.000369         0.767269          0.940567   \n",
      "6       0.001373         0.000361         0.738537          0.957125   \n",
      "7       0.001235         0.000397         0.706780          0.971094   \n",
      "8       0.001670         0.000844         0.676403          0.982338   \n",
      "9       0.001391         0.000492         0.667515          0.989254   \n",
      "\n",
      "  param_max_depth              params  rank_test_score  split0_test_score  \\\n",
      "0               1   {u'max_depth': 1}               10           0.360113   \n",
      "1               2   {u'max_depth': 2}                7           0.687624   \n",
      "2               3   {u'max_depth': 3}                4           0.696273   \n",
      "3               4   {u'max_depth': 4}                1           0.733190   \n",
      "4               5   {u'max_depth': 5}                2           0.724850   \n",
      "5               6   {u'max_depth': 6}                3           0.717020   \n",
      "6               7   {u'max_depth': 7}                5           0.684345   \n",
      "7               8   {u'max_depth': 8}                6           0.658708   \n",
      "8               9   {u'max_depth': 9}                8           0.655118   \n",
      "9              10  {u'max_depth': 10}                9           0.652797   \n",
      "\n",
      "   split0_train_score  split1_test_score  split1_train_score  \\\n",
      "0            0.502107           0.373269            0.454442   \n",
      "1            0.757444           0.709854            0.740959   \n",
      "2            0.841452           0.792152            0.833551   \n",
      "3            0.888584           0.793042            0.883775   \n",
      "4            0.915630           0.763612            0.908156   \n",
      "5            0.938748           0.773076            0.936691   \n",
      "6            0.957147           0.734708            0.955998   \n",
      "7            0.969469           0.691220            0.973919   \n",
      "8            0.978381           0.682303            0.985175   \n",
      "9            0.987274           0.660594            0.990719   \n",
      "\n",
      "   split2_test_score  split2_train_score  std_fit_time  std_score_time  \\\n",
      "0           0.330050            0.493057      0.000179        0.000034   \n",
      "1           0.673270            0.757907      0.000100        0.000025   \n",
      "2           0.799124            0.839427      0.000100        0.000132   \n",
      "3           0.817751            0.890745      0.000073        0.000062   \n",
      "4           0.831971            0.921908      0.000086        0.000028   \n",
      "5           0.812096            0.946261      0.000092        0.000045   \n",
      "6           0.796975            0.958231      0.000230        0.000013   \n",
      "7           0.770781            0.969895      0.000187        0.000075   \n",
      "8           0.691952            0.983459      0.000116        0.000636   \n",
      "9           0.689268            0.989768      0.000084        0.000023   \n",
      "\n",
      "   std_test_score  std_train_score  \n",
      "0        0.018068         0.020670  \n",
      "1        0.015031         0.007883  \n",
      "2        0.046987         0.003351  \n",
      "3        0.035540         0.002913  \n",
      "4        0.044296         0.005621  \n",
      "5        0.039055         0.004113  \n",
      "6        0.046089         0.000912  \n",
      "7        0.047081         0.002005  \n",
      "8        0.015613         0.002885  \n",
      "9        0.015679         0.001452  \n",
      "Trial 4: $420,622.22\n"
     ]
    },
    {
     "name": "stdout",
     "output_type": "stream",
     "text": [
      "   mean_fit_time  mean_score_time  mean_test_score  mean_train_score  \\\n",
      "0       0.000801         0.000332         0.419980          0.467264   \n",
      "1       0.000723         0.000304         0.691394          0.733310   \n",
      "2       0.000842         0.000320         0.757604          0.824486   \n",
      "3       0.001008         0.000512         0.784300          0.873106   \n",
      "4       0.000928         0.000325         0.783439          0.901377   \n",
      "5       0.001056         0.000335         0.760115          0.924429   \n",
      "6       0.001179         0.000394         0.717826          0.947040   \n",
      "7       0.001315         0.000391         0.709291          0.963162   \n",
      "8       0.001366         0.000404         0.697263          0.975883   \n",
      "9       0.002085         0.000646         0.692989          0.986879   \n",
      "\n",
      "  param_max_depth              params  rank_test_score  split0_test_score  \\\n",
      "0               1   {u'max_depth': 1}               10           0.405533   \n",
      "1               2   {u'max_depth': 2}                9           0.682622   \n",
      "2               3   {u'max_depth': 3}                4           0.753357   \n",
      "3               4   {u'max_depth': 4}                1           0.761624   \n",
      "4               5   {u'max_depth': 5}                2           0.781913   \n",
      "5               6   {u'max_depth': 6}                3           0.742032   \n",
      "6               7   {u'max_depth': 7}                5           0.699967   \n",
      "7               8   {u'max_depth': 8}                6           0.662924   \n",
      "8               9   {u'max_depth': 9}                7           0.673104   \n",
      "9              10  {u'max_depth': 10}                8           0.657633   \n",
      "\n",
      "   split0_train_score  split1_test_score  split1_train_score  \\\n",
      "0            0.477507           0.489211            0.448238   \n",
      "1            0.741272           0.725500            0.717348   \n",
      "2            0.833052           0.763006            0.809719   \n",
      "3            0.879698           0.795475            0.860089   \n",
      "4            0.910356           0.790188            0.887167   \n",
      "5            0.932387           0.788271            0.906325   \n",
      "6            0.952109           0.749973            0.929615   \n",
      "7            0.969886           0.744140            0.945943   \n",
      "8            0.980007           0.727092            0.962890   \n",
      "9            0.989273           0.723072            0.983940   \n",
      "\n",
      "   split2_test_score  split2_train_score  std_fit_time  std_score_time  \\\n",
      "0           0.365307            0.476047      0.000107        0.000037   \n",
      "1           0.666128            0.741311      0.000004        0.000002   \n",
      "2           0.756481            0.830687      0.000063        0.000016   \n",
      "3           0.795975            0.879530      0.000120        0.000099   \n",
      "4           0.778226            0.906609      0.000054        0.000014   \n",
      "5           0.750180            0.934576      0.000149        0.000016   \n",
      "6           0.703676            0.959395      0.000192        0.000110   \n",
      "7           0.721166            0.973656      0.000451        0.000052   \n",
      "8           0.691780            0.984751      0.000356        0.000116   \n",
      "9           0.698535            0.987426      0.000729        0.000250   \n",
      "\n",
      "   std_test_score  std_train_score  \n",
      "0        0.051549         0.013467  \n",
      "1        0.024996         0.011287  \n",
      "2        0.004021         0.010487  \n",
      "3        0.016097         0.009205  \n",
      "4        0.004996         0.010164  \n",
      "5        0.020148         0.012833  \n",
      "6        0.022738         0.012675  \n",
      "7        0.034219         0.012272  \n",
      "8        0.022392         0.009389  \n",
      "9        0.027017         0.002211  \n",
      "Trial 5: $413,334.78\n",
      "   mean_fit_time  mean_score_time  mean_test_score  mean_train_score  \\\n",
      "0       0.001067         0.000372         0.319740          0.475902   \n",
      "1       0.000830         0.000321         0.583671          0.731723   \n",
      "2       0.000895         0.000339         0.686467          0.820475   \n",
      "3       0.001028         0.000345         0.730369          0.873980   \n",
      "4       0.000953         0.000332         0.702524          0.908635   \n",
      "5       0.000984         0.000344         0.687637          0.933169   \n",
      "6       0.001113         0.000413         0.668159          0.953309   \n",
      "7       0.001299         0.000380         0.657139          0.969525   \n",
      "8       0.001487         0.000388         0.624420          0.979802   \n",
      "9       0.001169         0.000417         0.612887          0.988462   \n",
      "\n",
      "  param_max_depth              params  rank_test_score  split0_test_score  \\\n",
      "0               1   {u'max_depth': 1}               10           0.365286   \n",
      "1               2   {u'max_depth': 2}                9           0.653905   \n",
      "2               3   {u'max_depth': 3}                4           0.757909   \n",
      "3               4   {u'max_depth': 4}                1           0.794801   \n",
      "4               5   {u'max_depth': 5}                2           0.791596   \n",
      "5               6   {u'max_depth': 6}                3           0.761459   \n",
      "6               7   {u'max_depth': 7}                5           0.715053   \n",
      "7               8   {u'max_depth': 8}                6           0.743992   \n",
      "8               9   {u'max_depth': 9}                7           0.679503   \n",
      "9              10  {u'max_depth': 10}                8           0.665907   \n",
      "\n",
      "   split0_train_score  split1_test_score  split1_train_score  \\\n",
      "0            0.459138           0.150121            0.494859   \n",
      "1            0.719590           0.434341            0.747318   \n",
      "2            0.812936           0.541221            0.827205   \n",
      "3            0.876415           0.627115            0.883946   \n",
      "4            0.913224           0.559766            0.910777   \n",
      "5            0.937489           0.552779            0.937092   \n",
      "6            0.957961           0.549656            0.955323   \n",
      "7            0.970978           0.505245            0.971091   \n",
      "8            0.983031           0.487973            0.979277   \n",
      "9            0.991912           0.485266            0.986696   \n",
      "\n",
      "   split2_test_score  split2_train_score  std_fit_time  std_score_time  \\\n",
      "0           0.443461            0.473710      0.000273        0.000058   \n",
      "1           0.662226            0.728260      0.000057        0.000011   \n",
      "2           0.759722            0.821285      0.000042        0.000012   \n",
      "3           0.768696            0.861579      0.000059        0.000010   \n",
      "4           0.755524            0.901906      0.000063        0.000018   \n",
      "5           0.748104            0.924926      0.000053        0.000020   \n",
      "6           0.739407            0.946642      0.000189        0.000139   \n",
      "7           0.721512            0.966506      0.000147        0.000044   \n",
      "8           0.705359            0.977098      0.000408        0.000049   \n",
      "9           0.687081            0.986778      0.000097        0.000120   \n",
      "\n",
      "   std_test_score  std_train_score  \n",
      "0        0.123895         0.014665  \n",
      "1        0.105444         0.011582  \n",
      "2        0.102510         0.005854  \n",
      "3        0.073648         0.009292  \n",
      "4        0.101823         0.004863  \n",
      "5        0.095332         0.005831  \n",
      "6        0.084223         0.004836  \n",
      "7        0.107592         0.002135  \n",
      "8        0.096875         0.002450  \n",
      "9        0.090483         0.002440  \n",
      "Trial 6: $411,931.58\n",
      "   mean_fit_time  mean_score_time  mean_test_score  mean_train_score  \\\n",
      "0       0.000737         0.000327         0.438649          0.494260   \n",
      "1       0.000876         0.000408         0.688293          0.759934   \n",
      "2       0.000846         0.000318         0.766913          0.843758   \n",
      "3       0.000859         0.000315         0.816405          0.889976   \n",
      "4       0.000911         0.000346         0.793582          0.919856   \n",
      "5       0.001233         0.000435         0.786229          0.942488   \n",
      "6       0.000995         0.000322         0.788330          0.957504   \n",
      "7       0.001042         0.000324         0.764426          0.972897   \n",
      "8       0.001038         0.000323         0.762511          0.983341   \n",
      "9       0.001060         0.000321         0.743469          0.988227   \n",
      "\n",
      "  param_max_depth              params  rank_test_score  split0_test_score  \\\n",
      "0               1   {u'max_depth': 1}               10           0.443070   \n",
      "1               2   {u'max_depth': 2}                9           0.678116   \n",
      "2               3   {u'max_depth': 3}                5           0.741908   \n",
      "3               4   {u'max_depth': 4}                1           0.803612   \n",
      "4               5   {u'max_depth': 5}                2           0.769510   \n",
      "5               6   {u'max_depth': 6}                4           0.773488   \n",
      "6               7   {u'max_depth': 7}                3           0.800277   \n",
      "7               8   {u'max_depth': 8}                6           0.770077   \n",
      "8               9   {u'max_depth': 9}                7           0.756140   \n",
      "9              10  {u'max_depth': 10}                8           0.746597   \n",
      "\n",
      "   split0_train_score  split1_test_score  split1_train_score  \\\n",
      "0            0.510635           0.432298            0.473838   \n",
      "1            0.774726           0.672437            0.746623   \n",
      "2            0.849090           0.784511            0.840597   \n",
      "3            0.896893           0.823828            0.883668   \n",
      "4            0.923074           0.793250            0.909164   \n",
      "5            0.942415           0.785693            0.936875   \n",
      "6            0.955303           0.774211            0.955910   \n",
      "7            0.970097           0.749848            0.976449   \n",
      "8            0.983308           0.760440            0.984639   \n",
      "9            0.988277           0.743494            0.988404   \n",
      "\n",
      "   split2_test_score  split2_train_score  std_fit_time  std_score_time  \\\n",
      "0           0.440545            0.498306      0.000096        0.000038   \n",
      "1           0.714405            0.758454      0.000054        0.000078   \n",
      "2           0.774512            0.841588      0.000051        0.000012   \n",
      "3           0.821874            0.889368      0.000020        0.000002   \n",
      "4           0.818172            0.927331      0.000079        0.000041   \n",
      "5           0.799605            0.948175      0.000101        0.000086   \n",
      "6           0.790408            0.961298      0.000043        0.000004   \n",
      "7           0.773311            0.972146      0.000078        0.000005   \n",
      "8           0.771001            0.982076      0.000011        0.000005   \n",
      "9           0.740291            0.988000      0.000008        0.000004   \n",
      "\n",
      "   std_test_score  std_train_score  \n",
      "0        0.004599         0.015292  \n",
      "1        0.018574         0.011521  \n",
      "2        0.018211         0.003792  \n",
      "3        0.009116         0.005416  \n",
      "4        0.019880         0.007758  \n",
      "5        0.010676         0.004613  \n",
      "6        0.010749         0.002694  \n",
      "7        0.010373         0.002647  \n",
      "8        0.006244         0.001047  \n",
      "9        0.002576         0.000169  \n",
      "Trial 7: $399,663.16\n",
      "   mean_fit_time  mean_score_time  mean_test_score  mean_train_score  \\\n",
      "0       0.000905         0.000452         0.363601          0.493266   \n",
      "1       0.000816         0.000321         0.636698          0.733038   \n",
      "2       0.001004         0.000359         0.748622          0.819420   \n",
      "3       0.000864         0.000450         0.758531          0.871144   \n",
      "4       0.001181         0.000325         0.742637          0.907168   \n",
      "5       0.000983         0.000316         0.724639          0.932343   \n",
      "6       0.001169         0.000413         0.719620          0.952301   \n",
      "7       0.001039         0.000322         0.696888          0.968818   \n",
      "8       0.001058         0.000327         0.678887          0.980509   \n",
      "9       0.001356         0.000351         0.680489          0.988973   \n",
      "\n",
      "  param_max_depth              params  rank_test_score  split0_test_score  \\\n",
      "0               1   {u'max_depth': 1}               10           0.346186   \n",
      "1               2   {u'max_depth': 2}                9           0.638723   \n",
      "2               3   {u'max_depth': 3}                2           0.784307   \n",
      "3               4   {u'max_depth': 4}                1           0.792557   \n",
      "4               5   {u'max_depth': 5}                3           0.802451   \n",
      "5               6   {u'max_depth': 6}                4           0.799516   \n",
      "6               7   {u'max_depth': 7}                5           0.785117   \n",
      "7               8   {u'max_depth': 8}                6           0.766163   \n",
      "8               9   {u'max_depth': 9}                8           0.716070   \n",
      "9              10  {u'max_depth': 10}                7           0.731930   \n",
      "\n",
      "   split0_train_score  split1_test_score  split1_train_score  \\\n",
      "0            0.498055           0.387216            0.487783   \n",
      "1            0.722291           0.634808            0.738125   \n",
      "2            0.808991           0.736222            0.826162   \n",
      "3            0.854902           0.732346            0.883474   \n",
      "4            0.884882           0.728563            0.917219   \n",
      "5            0.915085           0.720167            0.941296   \n",
      "6            0.944334           0.727997            0.958627   \n",
      "7            0.964258           0.686980            0.975775   \n",
      "8            0.979716           0.699746            0.984049   \n",
      "9            0.988195           0.697662            0.990857   \n",
      "\n",
      "   split2_test_score  split2_train_score  std_fit_time  std_score_time  \\\n",
      "0           0.357537            0.493960      0.000135        0.000133   \n",
      "1           0.636547            0.738697      0.000040        0.000009   \n",
      "2           0.725063            0.823108      0.000065        0.000022   \n",
      "3           0.750429            0.875056      0.000006        0.000184   \n",
      "4           0.696437            0.919402      0.000395        0.000009   \n",
      "5           0.653659            0.940650      0.000059        0.000001   \n",
      "6           0.645243            0.953942      0.000107        0.000077   \n",
      "7           0.636989            0.966422      0.000025        0.000007   \n",
      "8           0.620560            0.977763      0.000017        0.000002   \n",
      "9           0.611478            0.987867      0.000380        0.000047   \n",
      "\n",
      "   std_test_score  std_train_score  \n",
      "0        0.017299         0.004222  \n",
      "1        0.001603         0.007603  \n",
      "2        0.025735         0.007479  \n",
      "3        0.025252         0.011988  \n",
      "4        0.044432         0.015784  \n",
      "5        0.059667         0.012206  \n",
      "6        0.057445         0.005949  \n",
      "7        0.053230         0.004998  \n",
      "8        0.041701         0.002627  \n",
      "9        0.050676         0.001339  \n",
      "Trial 8: $407,232.00\n"
     ]
    },
    {
     "name": "stdout",
     "output_type": "stream",
     "text": [
      "   mean_fit_time  mean_score_time  mean_test_score  mean_train_score  \\\n",
      "0       0.000947         0.000349         0.437664          0.471818   \n",
      "1       0.000779         0.000313         0.675430          0.726359   \n",
      "2       0.000892         0.000331         0.769659          0.825623   \n",
      "3       0.000980         0.000356         0.788505          0.877295   \n",
      "4       0.001005         0.000339         0.721631          0.910221   \n",
      "5       0.001009         0.000346         0.720647          0.935519   \n",
      "6       0.001142         0.000389         0.708589          0.954624   \n",
      "7       0.001170         0.000348         0.692177          0.970987   \n",
      "8       0.001707         0.000417         0.689107          0.981697   \n",
      "9       0.001556         0.000417         0.680410          0.988513   \n",
      "\n",
      "  param_max_depth              params  rank_test_score  split0_test_score  \\\n",
      "0               1   {u'max_depth': 1}               10           0.449163   \n",
      "1               2   {u'max_depth': 2}                9           0.675291   \n",
      "2               3   {u'max_depth': 3}                2           0.787082   \n",
      "3               4   {u'max_depth': 4}                1           0.789248   \n",
      "4               5   {u'max_depth': 5}                3           0.729368   \n",
      "5               6   {u'max_depth': 6}                4           0.756130   \n",
      "6               7   {u'max_depth': 7}                5           0.730329   \n",
      "7               8   {u'max_depth': 8}                6           0.728377   \n",
      "8               9   {u'max_depth': 9}                7           0.710211   \n",
      "9              10  {u'max_depth': 10}                8           0.707253   \n",
      "\n",
      "   split0_train_score  split1_test_score  split1_train_score  \\\n",
      "0            0.459072           0.428168            0.480919   \n",
      "1            0.715017           0.626540            0.743616   \n",
      "2            0.823758           0.725118            0.838794   \n",
      "3            0.875556           0.751668            0.887916   \n",
      "4            0.909096           0.739729            0.913752   \n",
      "5            0.935414           0.724226            0.934996   \n",
      "6            0.951705           0.735759            0.952880   \n",
      "7            0.968575           0.704089            0.966872   \n",
      "8            0.978976           0.717527            0.975903   \n",
      "9            0.988476           0.710617            0.982833   \n",
      "\n",
      "   split2_test_score  split2_train_score  std_fit_time  std_score_time  \\\n",
      "0           0.435573            0.475463      0.000105        0.000035   \n",
      "1           0.724461            0.720445      0.000037        0.000010   \n",
      "2           0.796643            0.814317      0.000166        0.000032   \n",
      "3           0.824592            0.868412      0.000178        0.000041   \n",
      "4           0.695736            0.907816      0.000081        0.000013   \n",
      "5           0.681311            0.936146      0.000098        0.000026   \n",
      "6           0.659512            0.959286      0.000140        0.000085   \n",
      "7           0.643789            0.977513      0.000138        0.000015   \n",
      "8           0.639422            0.990212      0.000602        0.000099   \n",
      "9           0.623154            0.994229      0.000528        0.000115   \n",
      "\n",
      "   std_test_score  std_train_score  \n",
      "0        0.008702         0.009284  \n",
      "1        0.039925         0.012402  \n",
      "2        0.031677         0.010079  \n",
      "3        0.029738         0.008057  \n",
      "4        0.018759         0.002551  \n",
      "5        0.030668         0.000475  \n",
      "6        0.034707         0.003331  \n",
      "7        0.035562         0.004667  \n",
      "8        0.035193         0.006150  \n",
      "9        0.040432         0.004653  \n",
      "Trial 9: $402,531.82\n",
      "   mean_fit_time  mean_score_time  mean_test_score  mean_train_score  \\\n",
      "0       0.000847         0.000372         0.348664          0.442319   \n",
      "1       0.000892         0.000343         0.633703          0.731289   \n",
      "2       0.000893         0.000419         0.754878          0.822751   \n",
      "3       0.000907         0.000321         0.769258          0.872508   \n",
      "4       0.000930         0.000325         0.753412          0.906697   \n",
      "5       0.001148         0.000351         0.736690          0.931369   \n",
      "6       0.001351         0.000401         0.711718          0.952318   \n",
      "7       0.001077         0.000340         0.715661          0.970883   \n",
      "8       0.001325         0.000390         0.697161          0.982443   \n",
      "9       0.001352         0.000399         0.676383          0.989526   \n",
      "\n",
      "  param_max_depth              params  rank_test_score  split0_test_score  \\\n",
      "0               1   {u'max_depth': 1}               10           0.464897   \n",
      "1               2   {u'max_depth': 2}                9           0.616806   \n",
      "2               3   {u'max_depth': 3}                2           0.763017   \n",
      "3               4   {u'max_depth': 4}                1           0.758042   \n",
      "4               5   {u'max_depth': 5}                3           0.707429   \n",
      "5               6   {u'max_depth': 6}                4           0.651226   \n",
      "6               7   {u'max_depth': 7}                6           0.656393   \n",
      "7               8   {u'max_depth': 8}                5           0.668341   \n",
      "8               9   {u'max_depth': 9}                7           0.665784   \n",
      "9              10  {u'max_depth': 10}                8           0.596457   \n",
      "\n",
      "   split0_train_score  split1_test_score  split1_train_score  \\\n",
      "0            0.406892           0.216978            0.472819   \n",
      "1            0.719449           0.595980            0.746537   \n",
      "2            0.822440           0.684381            0.828641   \n",
      "3            0.873783           0.743643            0.874441   \n",
      "4            0.903432           0.749015            0.912198   \n",
      "5            0.931369           0.757788            0.934395   \n",
      "6            0.953636           0.712399            0.950546   \n",
      "7            0.969574           0.699579            0.964600   \n",
      "8            0.983015           0.675372            0.977288   \n",
      "9            0.989305           0.706399            0.985550   \n",
      "\n",
      "   split2_test_score  split2_train_score  std_fit_time  std_score_time  \\\n",
      "0           0.363223            0.447245      0.000109        0.000051   \n",
      "1           0.688452            0.727880      0.000043        0.000014   \n",
      "2           0.817172            0.817171      0.000038        0.000123   \n",
      "3           0.806176            0.869300      0.000070        0.000011   \n",
      "4           0.804145            0.904463      0.000086        0.000020   \n",
      "5           0.801713            0.928342      0.000136        0.000028   \n",
      "6           0.766788            0.952772      0.000108        0.000050   \n",
      "7           0.779428            0.978476      0.000077        0.000017   \n",
      "8           0.750570            0.987025      0.000170        0.000062   \n",
      "9           0.726907            0.993725      0.000033        0.000027   \n",
      "\n",
      "   std_test_score  std_train_score  \n",
      "0        0.101796         0.027139  \n",
      "1        0.039565         0.011318  \n",
      "2        0.054450         0.004688  \n",
      "3        0.026710         0.002284  \n",
      "4        0.039631         0.003912  \n",
      "5        0.063252         0.002471  \n",
      "6        0.045100         0.001302  \n",
      "7        0.046778         0.005740  \n",
      "8        0.037896         0.003996  \n",
      "9        0.057346         0.003341  \n",
      "Trial 10: $413,700.00\n",
      "\n",
      "Range in prices: $29,438.89\n"
     ]
    }
   ],
   "source": [
    "# 请先注释掉 fit_model 函数里的所有 print 语句\n",
    "vs.PredictTrials(features, prices, fit_model, client_data)"
   ]
  },
  {
   "cell_type": "markdown",
   "metadata": {},
   "source": [
    "### 问题 12 - 回答：\n",
    "通过数据观察，网格搜索法和k折交叉验证训练出的最优模型有足够的健壮来保证预测的一致性。"
   ]
  },
  {
   "cell_type": "markdown",
   "metadata": {},
   "source": [
    "### 问题 13 - 实用性探讨\n",
    "*简单地讨论一下你建构的模型能否在现实世界中使用？* \n",
    "\n",
    "提示：回答以下几个问题，并给出相应结论的理由：\n",
    "- *1978年所采集的数据，在已考虑通货膨胀的前提下，在今天是否仍然适用？*\n",
    "- *数据中呈现的特征是否足够描述一个房屋？*\n",
    "- *在波士顿这样的大都市采集的数据，能否应用在其它乡镇地区？*\n",
    "- *你觉得仅仅凭房屋所在社区的环境来判断房屋价值合理吗？*"
   ]
  },
  {
   "cell_type": "markdown",
   "metadata": {},
   "source": [
    "### 问题 13 - 回答：\n",
    "- 1978年所采集的数据太过陈旧，与当今的社会发展水平相去甚远，不再适用；\n",
    "- 数据中对房屋描述的特征仅有3个，不够全面，不足以描述整个房屋；\n",
    "- 在波士顿大都市采集的数据，不适用于其他乡镇地区，乡镇地区可能每家每户都有自有房屋，即使贫富有差距，但对于房屋的需求可能不会那么大，应该适用于同等水平的城市；\n",
    "- 仅仅凭房屋所在社区的环境来判断房屋价值并不合理，应该还需要考虑房屋的大小，新旧程度，装修与否等其他因素。"
   ]
  },
  {
   "cell_type": "markdown",
   "metadata": {},
   "source": [
    "## 可选问题 - 预测北京房价\n",
    "\n",
    "（本题结果不影响项目是否通过）通过上面的实践，相信你对机器学习的一些常用概念有了很好的领悟和掌握。但利用70年代的波士顿房价数据进行建模的确对我们来说意义不是太大。现在你可以把你上面所学应用到北京房价数据集中 `bj_housing.csv`。\n",
    "\n",
    "免责声明：考虑到北京房价受到宏观经济、政策调整等众多因素的直接影响，预测结果仅供参考。\n",
    "\n",
    "这个数据集的特征有：\n",
    "- Area：房屋面积，平方米\n",
    "- Room：房间数，间\n",
    "- Living: 厅数，间\n",
    "- School: 是否为学区房，0或1\n",
    "- Year: 房屋建造时间，年\n",
    "- Floor: 房屋所处楼层，层\n",
    "\n",
    "目标变量：\n",
    "- Value: 房屋人民币售价，万\n",
    "\n",
    "你可以参考上面学到的内容，拿这个数据集来练习数据分割与重排、定义衡量标准、训练模型、评价模型表现、使用网格搜索配合交叉验证对参数进行调优并选出最佳参数，比较两者的差别，最终得出最佳模型对验证集的预测分数。"
   ]
  },
  {
   "cell_type": "code",
   "execution_count": null,
   "metadata": {
    "collapsed": true
   },
   "outputs": [],
   "source": [
    "# TODO 6\n",
    "\n",
    "# 你的代码"
   ]
  },
  {
   "cell_type": "markdown",
   "metadata": {},
   "source": [
    "### 问题14 - 北京房价预测\n",
    "你成功的用新的数据集构建了模型了吗？他能对测试数据进行验证吗？它的表现是否符合你的预期？交叉验证是否有助于提升你模型的表现？\n",
    "\n",
    "**提示：**如果你是从零开始构建机器学习的代码会让你一时觉得无从下手。这时不要着急，你要做的只是查看之前写的代码，把每一行都看明白，然后逐步构建你的模型。当中遇到什么问题也可以在我们论坛寻找答案。也许你会发现你所构建的模型的表现并没有达到你的预期，这说明机器学习并非是一项简单的任务，构建一个表现良好的模型需要长时间的研究和测试。这也是我们接下来的课程中会逐渐学到的。"
   ]
  },
  {
   "cell_type": "markdown",
   "metadata": {},
   "source": [
    "### 问题14 - 回答"
   ]
  }
 ],
 "metadata": {
  "kernelspec": {
   "display_name": "Python 2",
   "language": "python",
   "name": "python2"
  },
  "language_info": {
   "codemirror_mode": {
    "name": "ipython",
    "version": 2
   },
   "file_extension": ".py",
   "mimetype": "text/x-python",
   "name": "python",
   "nbconvert_exporter": "python",
   "pygments_lexer": "ipython2",
   "version": "2.7.13"
  }
 },
 "nbformat": 4,
 "nbformat_minor": 1
}
